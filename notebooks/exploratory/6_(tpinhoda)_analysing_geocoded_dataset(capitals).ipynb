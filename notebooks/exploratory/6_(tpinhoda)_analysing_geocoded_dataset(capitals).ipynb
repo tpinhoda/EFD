{
 "cells": [
  {
   "cell_type": "code",
   "execution_count": 1,
   "metadata": {
    "ExecuteTime": {
     "end_time": "2020-05-08T18:53:50.632427Z",
     "start_time": "2020-05-08T18:53:50.180306Z"
    }
   },
   "outputs": [],
   "source": [
    "import warnings\n",
    "warnings.simplefilter(action='ignore', category=FutureWarning)\n",
    "\n",
    "import pandas as pd\n",
    "import numpy as np\n",
    "from tqdm import tqdm"
   ]
  },
  {
   "cell_type": "markdown",
   "metadata": {},
   "source": [
    "# Loading Data"
   ]
  },
  {
   "cell_type": "code",
   "execution_count": 2,
   "metadata": {},
   "outputs": [
    {
     "data": {
      "text/html": [
       "<div>\n",
       "<style scoped>\n",
       "    .dataframe tbody tr th:only-of-type {\n",
       "        vertical-align: middle;\n",
       "    }\n",
       "\n",
       "    .dataframe tbody tr th {\n",
       "        vertical-align: top;\n",
       "    }\n",
       "\n",
       "    .dataframe thead th {\n",
       "        text-align: right;\n",
       "    }\n",
       "</style>\n",
       "<table border=\"1\" class=\"dataframe\">\n",
       "  <thead>\n",
       "    <tr style=\"text-align: right;\">\n",
       "      <th></th>\n",
       "      <th>id_unico</th>\n",
       "      <th>local_unico</th>\n",
       "      <th>lat</th>\n",
       "      <th>lon</th>\n",
       "      <th>fetched_address</th>\n",
       "      <th>precision</th>\n",
       "      <th>LOCAL_VOTACAO</th>\n",
       "      <th>ENDERECO</th>\n",
       "      <th>CEP</th>\n",
       "      <th>COD_LOCALIDADE_IBGE</th>\n",
       "      <th>LOCALIDADE_LOCAL_VOTACAO</th>\n",
       "      <th>SGL_UF</th>\n",
       "      <th>ZONA</th>\n",
       "      <th>BAIRRO_ZONA_SEDE</th>\n",
       "      <th>LATITUDE_ZONA</th>\n",
       "      <th>LONGITUDE_ZONA</th>\n",
       "      <th>NUM_SECAO</th>\n",
       "      <th>NUM_LOCAL</th>\n",
       "      <th>BAIRRO_LOCAL_VOT</th>\n",
       "      <th>COUNTRY</th>\n",
       "    </tr>\n",
       "  </thead>\n",
       "  <tbody>\n",
       "    <tr>\n",
       "      <th>0</th>\n",
       "      <td>14385</td>\n",
       "      <td>CRECHE DONA MARIA DE ARAUJO CARNEIRO, RUA NOSS...</td>\n",
       "      <td>-5.193051</td>\n",
       "      <td>-39.304486</td>\n",
       "      <td>R. Dr. Sebastião Cavalcante, 58 - Monteiro de ...</td>\n",
       "      <td>ROOFTOP</td>\n",
       "      <td>CRECHE DONA MARIA DE ARAUJO CARNEIRO</td>\n",
       "      <td>RUA NOSSA SENHORA DA NATIVIDADE SN</td>\n",
       "      <td>62660000</td>\n",
       "      <td>2313757</td>\n",
       "      <td>UMIRIM</td>\n",
       "      <td>CE</td>\n",
       "      <td>23</td>\n",
       "      <td>CENTRO</td>\n",
       "      <td>NaN</td>\n",
       "      <td>NaN</td>\n",
       "      <td>231</td>\n",
       "      <td>1015</td>\n",
       "      <td>CENTRO-SEDE</td>\n",
       "      <td>BRASIL</td>\n",
       "    </tr>\n",
       "  </tbody>\n",
       "</table>\n",
       "</div>"
      ],
      "text/plain": [
       "   id_unico                                        local_unico       lat  \\\n",
       "0     14385  CRECHE DONA MARIA DE ARAUJO CARNEIRO, RUA NOSS... -5.193051   \n",
       "\n",
       "         lon                                    fetched_address precision  \\\n",
       "0 -39.304486  R. Dr. Sebastião Cavalcante, 58 - Monteiro de ...   ROOFTOP   \n",
       "\n",
       "                          LOCAL_VOTACAO                            ENDERECO  \\\n",
       "0  CRECHE DONA MARIA DE ARAUJO CARNEIRO  RUA NOSSA SENHORA DA NATIVIDADE SN   \n",
       "\n",
       "        CEP  COD_LOCALIDADE_IBGE LOCALIDADE_LOCAL_VOTACAO SGL_UF  ZONA  \\\n",
       "0  62660000              2313757                   UMIRIM     CE    23   \n",
       "\n",
       "  BAIRRO_ZONA_SEDE  LATITUDE_ZONA  LONGITUDE_ZONA  NUM_SECAO  NUM_LOCAL  \\\n",
       "0           CENTRO            NaN             NaN        231       1015   \n",
       "\n",
       "  BAIRRO_LOCAL_VOT COUNTRY  \n",
       "0      CENTRO-SEDE  BRASIL  "
      ]
     },
     "execution_count": 2,
     "metadata": {},
     "output_type": "execute_result"
    }
   ],
   "source": [
    "path_data =  '../../data/interim/Brazil/election_data/2018/polling_places/polling_places.csv'\n",
    "data = pd.read_csv(path_data)\n",
    "data.head(1)"
   ]
  },
  {
   "cell_type": "markdown",
   "metadata": {},
   "source": [
    "# List of capitals per state"
   ]
  },
  {
   "cell_type": "code",
   "execution_count": 3,
   "metadata": {},
   "outputs": [],
   "source": [
    "cities = ['Rio Branco', 'Macapá', 'Manaus', 'Belém', 'Porto Velho','Boa Vista', \n",
    "          'Palmas', 'Maceió', 'Salvador', 'Fortaleza', 'São Luís', 'João Pessoa', \n",
    "          'Recife', 'Teresina', 'Natal', 'Aracaju', 'Goiânia', 'Cuiabá',\n",
    "          'Campo Grande', 'Brasília', 'Vitória', 'Belo Horizonte', 'São Paulo', \n",
    "          'Rio de Janeiro', 'Curitiba', 'Porto Alegre', 'Florianópolis']"
   ]
  },
  {
   "cell_type": "markdown",
   "metadata": {},
   "source": [
    "# Checking for locals in capitals"
   ]
  },
  {
   "cell_type": "code",
   "execution_count": 11,
   "metadata": {
    "scrolled": true
   },
   "outputs": [
    {
     "name": "stderr",
     "output_type": "stream",
     "text": [
      "\n",
      "  0%|                                                | 0/94661 [00:00<?, ?it/s]\n",
      " 11%|███▍                            | 10353/94661 [00:00<00:00, 103448.21it/s]\n",
      " 22%|██████▉                         | 20533/94661 [00:00<00:00, 102660.68it/s]\n",
      " 33%|██████████▋                     | 31461/94661 [00:00<00:00, 104278.71it/s]\n",
      " 44%|██████████████                  | 41561/94661 [00:00<00:00, 102969.58it/s]\n",
      " 55%|█████████████████▋              | 52364/94661 [00:00<00:00, 104158.09it/s]\n",
      " 64%|█████████████████████▎           | 61051/94661 [00:00<00:00, 95082.52it/s]\n",
      " 76%|█████████████████████████        | 72049/94661 [00:00<00:00, 98858.50it/s]\n",
      " 87%|████████████████████████████▋    | 82155/94661 [00:00<00:00, 99232.85it/s]\n",
      "100%|█████████████████████████████████| 94661/94661 [00:00<00:00, 97806.07it/s]\n"
     ]
    }
   ],
   "source": [
    "tqdm.pandas()\n",
    "data['capital'] = data['LOCALIDADE_LOCAL_VOTACAO'].progress_apply(lambda x: True if any(x.lower() == i.lower() for i in cities) else False)"
   ]
  },
  {
   "cell_type": "code",
   "execution_count": 12,
   "metadata": {},
   "outputs": [
    {
     "data": {
      "text/html": [
       "<div>\n",
       "<style scoped>\n",
       "    .dataframe tbody tr th:only-of-type {\n",
       "        vertical-align: middle;\n",
       "    }\n",
       "\n",
       "    .dataframe tbody tr th {\n",
       "        vertical-align: top;\n",
       "    }\n",
       "\n",
       "    .dataframe thead th {\n",
       "        text-align: right;\n",
       "    }\n",
       "</style>\n",
       "<table border=\"1\" class=\"dataframe\">\n",
       "  <thead>\n",
       "    <tr style=\"text-align: right;\">\n",
       "      <th>capital</th>\n",
       "      <th>False</th>\n",
       "      <th>True</th>\n",
       "      <th>All</th>\n",
       "    </tr>\n",
       "    <tr>\n",
       "      <th>precision</th>\n",
       "      <th></th>\n",
       "      <th></th>\n",
       "      <th></th>\n",
       "    </tr>\n",
       "  </thead>\n",
       "  <tbody>\n",
       "    <tr>\n",
       "      <th>APPROXIMATE</th>\n",
       "      <td>16385</td>\n",
       "      <td>65</td>\n",
       "      <td>16450</td>\n",
       "    </tr>\n",
       "    <tr>\n",
       "      <th>GEOMETRIC_CENTER</th>\n",
       "      <td>20689</td>\n",
       "      <td>894</td>\n",
       "      <td>21583</td>\n",
       "    </tr>\n",
       "    <tr>\n",
       "      <th>NO_VALUE</th>\n",
       "      <td>372</td>\n",
       "      <td>4</td>\n",
       "      <td>376</td>\n",
       "    </tr>\n",
       "    <tr>\n",
       "      <th>RANGE_INTERPOLATED</th>\n",
       "      <td>864</td>\n",
       "      <td>19</td>\n",
       "      <td>883</td>\n",
       "    </tr>\n",
       "    <tr>\n",
       "      <th>ROOFTOP</th>\n",
       "      <td>26851</td>\n",
       "      <td>6170</td>\n",
       "      <td>33021</td>\n",
       "    </tr>\n",
       "    <tr>\n",
       "      <th>TSE</th>\n",
       "      <td>18617</td>\n",
       "      <td>3731</td>\n",
       "      <td>22348</td>\n",
       "    </tr>\n",
       "    <tr>\n",
       "      <th>All</th>\n",
       "      <td>83778</td>\n",
       "      <td>10883</td>\n",
       "      <td>94661</td>\n",
       "    </tr>\n",
       "  </tbody>\n",
       "</table>\n",
       "</div>"
      ],
      "text/plain": [
       "capital             False   True    All\n",
       "precision                              \n",
       "APPROXIMATE         16385     65  16450\n",
       "GEOMETRIC_CENTER    20689    894  21583\n",
       "NO_VALUE              372      4    376\n",
       "RANGE_INTERPOLATED    864     19    883\n",
       "ROOFTOP             26851   6170  33021\n",
       "TSE                 18617   3731  22348\n",
       "All                 83778  10883  94661"
      ]
     },
     "execution_count": 12,
     "metadata": {},
     "output_type": "execute_result"
    }
   ],
   "source": [
    "#print('There are {}% of rural areas'.format((23548/94661)*100))\n",
    "pd.crosstab(data.precision,data.capital, margins=True)"
   ]
  },
  {
   "cell_type": "code",
   "execution_count": 15,
   "metadata": {},
   "outputs": [
    {
     "data": {
      "text/plain": [
       "27"
      ]
     },
     "execution_count": 15,
     "metadata": {},
     "output_type": "execute_result"
    }
   ],
   "source": [
    "cap_data = data[data['capital']==True]\n",
    "len(cap_data.groupby('LOCALIDADE_LOCAL_VOTACAO'))"
   ]
  }
 ],
 "metadata": {
  "kernelspec": {
   "display_name": "Python 3",
   "language": "python",
   "name": "python3"
  },
  "language_info": {
   "codemirror_mode": {
    "name": "ipython",
    "version": 3
   },
   "file_extension": ".py",
   "mimetype": "text/x-python",
   "name": "python",
   "nbconvert_exporter": "python",
   "pygments_lexer": "ipython3",
   "version": "3.6.5"
  },
  "varInspector": {
   "cols": {
    "lenName": 16,
    "lenType": 16,
    "lenVar": 40
   },
   "kernels_config": {
    "python": {
     "delete_cmd_postfix": "",
     "delete_cmd_prefix": "del ",
     "library": "var_list.py",
     "varRefreshCmd": "print(var_dic_list())"
    },
    "r": {
     "delete_cmd_postfix": ") ",
     "delete_cmd_prefix": "rm(",
     "library": "var_list.r",
     "varRefreshCmd": "cat(var_dic_list()) "
    }
   },
   "types_to_exclude": [
    "module",
    "function",
    "builtin_function_or_method",
    "instance",
    "_Feature"
   ],
   "window_display": false
  }
 },
 "nbformat": 4,
 "nbformat_minor": 2
}
