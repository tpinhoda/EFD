{
 "cells": [
  {
   "cell_type": "markdown",
   "metadata": {},
   "source": [
    "## Imports"
   ]
  },
  {
   "cell_type": "code",
   "execution_count": 2,
   "metadata": {},
   "outputs": [],
   "source": [
    "from libpysal.weights.contiguity import Queen\n",
    "from libpysal.weights import DistanceBand\n",
    "import libpysal\n",
    "from libpysal import examples\n",
    "import matplotlib.pyplot as plt\n",
    "import geopandas as gpd\n",
    "import pandas as pd\n",
    "from matplotlib import pyplot as plt\n",
    "from shapely.geometry import Polygon\n",
    "%matplotlib widget"
   ]
  },
  {
   "cell_type": "code",
   "execution_count": 3,
   "metadata": {},
   "outputs": [],
   "source": [
    "from splot.libpysal import plot_spatial_weights"
   ]
  },
  {
   "cell_type": "markdown",
   "metadata": {},
   "source": [
    "## Data Preparation"
   ]
  },
  {
   "cell_type": "markdown",
   "metadata": {},
   "source": [
    "Let's first have a look at the dataset with `libpysal.examples.explain`"
   ]
  },
  {
   "cell_type": "markdown",
   "metadata": {},
   "source": [
    "Load data into a `geopandas` geodataframe"
   ]
  },
  {
   "cell_type": "code",
   "execution_count": 4,
   "metadata": {},
   "outputs": [
    {
     "name": "stdout",
     "output_type": "stream",
     "text": [
      "826\n"
     ]
    },
    {
     "data": {
      "text/html": [
       "<div>\n",
       "<style scoped>\n",
       "    .dataframe tbody tr th:only-of-type {\n",
       "        vertical-align: middle;\n",
       "    }\n",
       "\n",
       "    .dataframe tbody tr th {\n",
       "        vertical-align: top;\n",
       "    }\n",
       "\n",
       "    .dataframe thead th {\n",
       "        text-align: right;\n",
       "    }\n",
       "</style>\n",
       "<table border=\"1\" class=\"dataframe\">\n",
       "  <thead>\n",
       "    <tr style=\"text-align: right;\">\n",
       "      <th></th>\n",
       "      <th>Cod_ap</th>\n",
       "      <th>Cod_setor</th>\n",
       "      <th>TIPO</th>\n",
       "      <th>CD_GEOCODB</th>\n",
       "      <th>NM_BAIRRO</th>\n",
       "      <th>CD_GEOCODS</th>\n",
       "      <th>NM_SUBDIST</th>\n",
       "      <th>CD_GEOCODD</th>\n",
       "      <th>NM_DISTRIT</th>\n",
       "      <th>CD_GEOCODM</th>\n",
       "      <th>NM_MUNICIP</th>\n",
       "      <th>NM_MICRO</th>\n",
       "      <th>NM_MESO</th>\n",
       "      <th>NM_UF</th>\n",
       "      <th>CD_GEOCODU</th>\n",
       "      <th>geometry</th>\n",
       "    </tr>\n",
       "  </thead>\n",
       "  <tbody>\n",
       "    <tr>\n",
       "      <th>0</th>\n",
       "      <td>4300034001001</td>\n",
       "      <td>430003405000001</td>\n",
       "      <td>URBANO</td>\n",
       "      <td>None</td>\n",
       "      <td>None</td>\n",
       "      <td>43000340500</td>\n",
       "      <td>None</td>\n",
       "      <td>430003405</td>\n",
       "      <td>ACEGUÁ</td>\n",
       "      <td>4300034</td>\n",
       "      <td>ACEGUÁ</td>\n",
       "      <td>CAMPANHA MERIDIONAL</td>\n",
       "      <td>SUDOESTE RIO-GRANDENSE</td>\n",
       "      <td>RS</td>\n",
       "      <td>43</td>\n",
       "      <td>POLYGON ((-53.97581 -31.77023, -53.96848 -31.7...</td>\n",
       "    </tr>\n",
       "    <tr>\n",
       "      <th>1</th>\n",
       "      <td>4300059001001</td>\n",
       "      <td>430005905000001</td>\n",
       "      <td>URBANO</td>\n",
       "      <td>None</td>\n",
       "      <td>None</td>\n",
       "      <td>43000590500</td>\n",
       "      <td>None</td>\n",
       "      <td>430005905</td>\n",
       "      <td>ÁGUA SANTA</td>\n",
       "      <td>4300059</td>\n",
       "      <td>ÁGUA SANTA</td>\n",
       "      <td>PASSO FUNDO</td>\n",
       "      <td>NOROESTE RIO-GRANDENSE</td>\n",
       "      <td>RS</td>\n",
       "      <td>43</td>\n",
       "      <td>POLYGON ((-52.02139 -28.30491, -52.02744 -28.3...</td>\n",
       "    </tr>\n",
       "    <tr>\n",
       "      <th>2</th>\n",
       "      <td>4300109001001</td>\n",
       "      <td>430010905000001</td>\n",
       "      <td>URBANO</td>\n",
       "      <td>None</td>\n",
       "      <td>None</td>\n",
       "      <td>43001090500</td>\n",
       "      <td>None</td>\n",
       "      <td>430010905</td>\n",
       "      <td>AGUDO</td>\n",
       "      <td>4300109</td>\n",
       "      <td>AGUDO</td>\n",
       "      <td>RESTINGA SECA</td>\n",
       "      <td>CENTRO OCIDENTAL RIO-GRANDENSE</td>\n",
       "      <td>RS</td>\n",
       "      <td>43</td>\n",
       "      <td>POLYGON ((-53.21638 -29.72531, -53.21796 -29.7...</td>\n",
       "    </tr>\n",
       "    <tr>\n",
       "      <th>3</th>\n",
       "      <td>4300208001001</td>\n",
       "      <td>430020805000001</td>\n",
       "      <td>URBANO</td>\n",
       "      <td>None</td>\n",
       "      <td>None</td>\n",
       "      <td>43002080500</td>\n",
       "      <td>None</td>\n",
       "      <td>430020805</td>\n",
       "      <td>AJURICABA</td>\n",
       "      <td>4300208</td>\n",
       "      <td>AJURICABA</td>\n",
       "      <td>IJUÍ</td>\n",
       "      <td>NOROESTE RIO-GRANDENSE</td>\n",
       "      <td>RS</td>\n",
       "      <td>43</td>\n",
       "      <td>POLYGON ((-53.62610 -28.21418, -53.62811 -28.2...</td>\n",
       "    </tr>\n",
       "    <tr>\n",
       "      <th>4</th>\n",
       "      <td>4300307001001</td>\n",
       "      <td>430030705000001</td>\n",
       "      <td>URBANO</td>\n",
       "      <td>None</td>\n",
       "      <td>None</td>\n",
       "      <td>43003070500</td>\n",
       "      <td>None</td>\n",
       "      <td>430030705</td>\n",
       "      <td>ALECRIM</td>\n",
       "      <td>4300307</td>\n",
       "      <td>ALECRIM</td>\n",
       "      <td>SANTA ROSA</td>\n",
       "      <td>NOROESTE RIO-GRANDENSE</td>\n",
       "      <td>RS</td>\n",
       "      <td>43</td>\n",
       "      <td>POLYGON ((-54.76596 -27.73506, -54.77637 -27.7...</td>\n",
       "    </tr>\n",
       "  </tbody>\n",
       "</table>\n",
       "</div>"
      ],
      "text/plain": [
       "          Cod_ap        Cod_setor    TIPO CD_GEOCODB NM_BAIRRO   CD_GEOCODS  \\\n",
       "0  4300034001001  430003405000001  URBANO       None      None  43000340500   \n",
       "1  4300059001001  430005905000001  URBANO       None      None  43000590500   \n",
       "2  4300109001001  430010905000001  URBANO       None      None  43001090500   \n",
       "3  4300208001001  430020805000001  URBANO       None      None  43002080500   \n",
       "4  4300307001001  430030705000001  URBANO       None      None  43003070500   \n",
       "\n",
       "  NM_SUBDIST CD_GEOCODD  NM_DISTRIT CD_GEOCODM  NM_MUNICIP  \\\n",
       "0       None  430003405      ACEGUÁ    4300034      ACEGUÁ   \n",
       "1       None  430005905  ÁGUA SANTA    4300059  ÁGUA SANTA   \n",
       "2       None  430010905       AGUDO    4300109       AGUDO   \n",
       "3       None  430020805   AJURICABA    4300208   AJURICABA   \n",
       "4       None  430030705     ALECRIM    4300307     ALECRIM   \n",
       "\n",
       "              NM_MICRO                         NM_MESO NM_UF CD_GEOCODU  \\\n",
       "0  CAMPANHA MERIDIONAL          SUDOESTE RIO-GRANDENSE    RS         43   \n",
       "1          PASSO FUNDO          NOROESTE RIO-GRANDENSE    RS         43   \n",
       "2        RESTINGA SECA  CENTRO OCIDENTAL RIO-GRANDENSE    RS         43   \n",
       "3                 IJUÍ          NOROESTE RIO-GRANDENSE    RS         43   \n",
       "4           SANTA ROSA          NOROESTE RIO-GRANDENSE    RS         43   \n",
       "\n",
       "                                            geometry  \n",
       "0  POLYGON ((-53.97581 -31.77023, -53.96848 -31.7...  \n",
       "1  POLYGON ((-52.02139 -28.30491, -52.02744 -28.3...  \n",
       "2  POLYGON ((-53.21638 -29.72531, -53.21796 -29.7...  \n",
       "3  POLYGON ((-53.62610 -28.21418, -53.62811 -28.2...  \n",
       "4  POLYGON ((-54.76596 -27.73506, -54.77637 -27.7...  "
      ]
     },
     "execution_count": 4,
     "metadata": {},
     "output_type": "execute_result"
    }
   ],
   "source": [
    "meshpath = '../../data/RS/IBGE/meshblocks/2010/processed/weighting_area/RS.shp'\n",
    "gdf = gpd.read_file(meshpath)\n",
    "#gdf = gdf[gdf.NM_UF == 'AM']\n",
    "print(len(gdf))\n",
    "#gdf.dropna(inplace=True)\n",
    "#print(len(gdf))\n",
    "#gdf['id'] = gdf['CD_GEOCODS']\n",
    "#gdf.set_index('id', inplace=True)\n",
    "#gdf['geometry'] = [Polygon(poly) for poly in gdf.exterior]\n",
    "gdf.head(5)"
   ]
  },
  {
   "cell_type": "code",
   "execution_count": 5,
   "metadata": {},
   "outputs": [],
   "source": [
    "weights = Queen.from_dataframe(gdf)\n",
    "#Wmatrix, ids = weights.full()\n",
    "#Wmatrix = pd.DataFrame(Wmatrix, index=gdf.index.values, columns =gdf.index.values)\n",
    "#Wmatrix.to_csv('../../data/interim/Brazil/census_data/2010/weightening_area/digital_mesh/queen.csv')"
   ]
  },
  {
   "cell_type": "code",
   "execution_count": 30,
   "metadata": {},
   "outputs": [],
   "source": [
    "weights = DistanceBand.from_dataframe(gdf, threshold=None, build_sp=False, binary=False)\n",
    "Wmatrix, ids = weights.full()\n",
    "Wmatrix = pd.DataFrame(Wmatrix, index=gdf.index.values, columns =gdf.index.values)\n",
    "Wmatrix.to_csv('../../data/interim/Brazil/census_data/2010/weightening_area/digital_mesh/inverse_distance.csv')"
   ]
  },
  {
   "cell_type": "markdown",
   "metadata": {},
   "source": [
    "### Plotting"
   ]
  },
  {
   "cell_type": "code",
   "execution_count": 6,
   "metadata": {},
   "outputs": [
    {
     "data": {
      "application/vnd.jupyter.widget-view+json": {
       "model_id": "a2f2c1b7372942dd9e19aa5d94d0d2dc",
       "version_major": 2,
       "version_minor": 0
      },
      "text/plain": [
       "Canvas(toolbar=Toolbar(toolitems=[('Home', 'Reset original view', 'home', 'home'), ('Back', 'Back to previous …"
      ]
     },
     "metadata": {},
     "output_type": "display_data"
    }
   ],
   "source": [
    "fig, ax = plt.subplots()\n",
    "plot_spatial_weights(weights, gdf, ax=ax)\n",
    "plt.show()"
   ]
  },
  {
   "cell_type": "code",
   "execution_count": null,
   "metadata": {},
   "outputs": [],
   "source": []
  }
 ],
 "metadata": {
  "hide_input": false,
  "kernelspec": {
   "display_name": "Python 3",
   "language": "python",
   "name": "python3"
  },
  "language_info": {
   "codemirror_mode": {
    "name": "ipython",
    "version": 3
   },
   "file_extension": ".py",
   "mimetype": "text/x-python",
   "name": "python",
   "nbconvert_exporter": "python",
   "pygments_lexer": "ipython3",
   "version": "3.8.3"
  }
 },
 "nbformat": 4,
 "nbformat_minor": 2
}
