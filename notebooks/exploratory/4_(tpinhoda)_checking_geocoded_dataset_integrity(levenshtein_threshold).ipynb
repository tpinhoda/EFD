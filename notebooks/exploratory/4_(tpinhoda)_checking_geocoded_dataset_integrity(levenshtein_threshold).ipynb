{
 "cells": [
  {
   "cell_type": "code",
   "execution_count": 43,
   "metadata": {},
   "outputs": [],
   "source": [
    "import pandas as pd\n",
    "import numpy as np\n",
    "import Levenshtein\n",
    "import geopandas as geopd\n",
    "import seaborn as sns\n",
    "from sklearn.metrics import confusion_matrix, precision_score"
   ]
  },
  {
   "cell_type": "markdown",
   "metadata": {},
   "source": [
    "# Loading sampled data"
   ]
  },
  {
   "cell_type": "code",
   "execution_count": 29,
   "metadata": {},
   "outputs": [
    {
     "data": {
      "text/html": [
       "<div>\n",
       "<style scoped>\n",
       "    .dataframe tbody tr th:only-of-type {\n",
       "        vertical-align: middle;\n",
       "    }\n",
       "\n",
       "    .dataframe tbody tr th {\n",
       "        vertical-align: top;\n",
       "    }\n",
       "\n",
       "    .dataframe thead th {\n",
       "        text-align: right;\n",
       "    }\n",
       "</style>\n",
       "<table border=\"1\" class=\"dataframe\">\n",
       "  <thead>\n",
       "    <tr style=\"text-align: right;\">\n",
       "      <th></th>\n",
       "      <th>query_address</th>\n",
       "      <th>fetched_address</th>\n",
       "      <th>precision</th>\n",
       "      <th>same_address</th>\n",
       "    </tr>\n",
       "  </thead>\n",
       "  <tbody>\n",
       "    <tr>\n",
       "      <td>0</td>\n",
       "      <td>POVOADO MORRO GRANDE, POVOADO MORRO GRANDE - Z...</td>\n",
       "      <td>Miranda do Norte - MA, 65495-000, Brasil</td>\n",
       "      <td>APPROXIMATE</td>\n",
       "      <td>n</td>\n",
       "    </tr>\n",
       "    <tr>\n",
       "      <td>1</td>\n",
       "      <td>LOCALIDADE DE QUEIMADAS, QUEIMADAS - TAIÓ DE C...</td>\n",
       "      <td>Queimadas, PB, 58475-000, Brasil</td>\n",
       "      <td>APPROXIMATE</td>\n",
       "      <td>n</td>\n",
       "    </tr>\n",
       "    <tr>\n",
       "      <td>2</td>\n",
       "      <td>POSTO VISTA ALEGRE DE LAGOA DIONÍSIO, POVOADO ...</td>\n",
       "      <td>Lagoa do Dionísio, Ibitiara - BA, 46700-000, B...</td>\n",
       "      <td>APPROXIMATE</td>\n",
       "      <td>y</td>\n",
       "    </tr>\n",
       "    <tr>\n",
       "      <td>3</td>\n",
       "      <td>POVOADO SECO DAS MULATAS, POVOADO SECO DAS MUL...</td>\n",
       "      <td>2655 Ericeira, Portugal</td>\n",
       "      <td>APPROXIMATE</td>\n",
       "      <td>n</td>\n",
       "    </tr>\n",
       "    <tr>\n",
       "      <td>4</td>\n",
       "      <td>VILA MINERACU, ZONA RURAL - SÃO FÉLIX DO XINGU...</td>\n",
       "      <td>São Félix do Xingu, PA, 68380-000, Brasil</td>\n",
       "      <td>APPROXIMATE</td>\n",
       "      <td>n</td>\n",
       "    </tr>\n",
       "  </tbody>\n",
       "</table>\n",
       "</div>"
      ],
      "text/plain": [
       "                                       query_address  \\\n",
       "0  POVOADO MORRO GRANDE, POVOADO MORRO GRANDE - Z...   \n",
       "1  LOCALIDADE DE QUEIMADAS, QUEIMADAS - TAIÓ DE C...   \n",
       "2  POSTO VISTA ALEGRE DE LAGOA DIONÍSIO, POVOADO ...   \n",
       "3  POVOADO SECO DAS MULATAS, POVOADO SECO DAS MUL...   \n",
       "4  VILA MINERACU, ZONA RURAL - SÃO FÉLIX DO XINGU...   \n",
       "\n",
       "                                     fetched_address    precision same_address  \n",
       "0           Miranda do Norte - MA, 65495-000, Brasil  APPROXIMATE            n  \n",
       "1                   Queimadas, PB, 58475-000, Brasil  APPROXIMATE            n  \n",
       "2  Lagoa do Dionísio, Ibitiara - BA, 46700-000, B...  APPROXIMATE            y  \n",
       "3                            2655 Ericeira, Portugal  APPROXIMATE            n  \n",
       "4          São Félix do Xingu, PA, 68380-000, Brasil  APPROXIMATE            n  "
      ]
     },
     "execution_count": 29,
     "metadata": {},
     "output_type": "execute_result"
    }
   ],
   "source": [
    "path_data =  '../../data/interim/Brazil/election_data/2018/polling_places/address_to_check.csv'\n",
    "data = pd.read_csv(path_data, sep=';', encoding='latin')\n",
    "data.head()"
   ]
  },
  {
   "cell_type": "markdown",
   "metadata": {},
   "source": [
    "# Calculating levenshtein distance between query address and fetched address"
   ]
  },
  {
   "cell_type": "code",
   "execution_count": 64,
   "metadata": {},
   "outputs": [],
   "source": [
    "data['lev_dist'] = data.apply(lambda x: Levenshtein.ratio(x['query_address'].lower(),x['fetched_address'].lower()), axis=1)"
   ]
  },
  {
   "cell_type": "markdown",
   "metadata": {},
   "source": [
    "# Calculating optimum threshold by classifying the manually labeled address, and checking wich treshold can first get 100% precision on classifying same address."
   ]
  },
  {
   "cell_type": "code",
   "execution_count": 65,
   "metadata": {},
   "outputs": [
    {
     "name": "stdout",
     "output_type": "stream",
     "text": [
      "Optimum Threshold: 0.803\n"
     ]
    }
   ],
   "source": [
    "all_precisions = []\n",
    "all_threshold = []\n",
    "optimun_threshold = -1\n",
    "for threshold in np.arange(0,.95,.001):\n",
    "    data['pred'] = data['lev_dist'].map(lambda x: 'y' if x > threshold else 'n')\n",
    "    precision = precision_score(data['same_address'], data['pred'], pos_label='y')\n",
    "    all_precisions = all_precisions + [precision]\n",
    "    all_threshold = all_threshold + [threshold]\n",
    "    if precision == 1 and optimun_threshold == -1:\n",
    "        optimun_threshold = threshold\n",
    "        \n",
    "print('Optimum Threshold:',optimun_threshold)"
   ]
  },
  {
   "cell_type": "code",
   "execution_count": 66,
   "metadata": {},
   "outputs": [
    {
     "data": {
      "text/plain": [
       "<matplotlib.axes._subplots.AxesSubplot at 0x18470e39e80>"
      ]
     },
     "execution_count": 66,
     "metadata": {},
     "output_type": "execute_result"
    },
    {
     "data": {
      "image/png": "[encoded data removed]",
      "text/plain": [
       "<Figure size 432x288 with 1 Axes>"
      ]
     },
     "metadata": {
      "needs_background": "light"
     },
     "output_type": "display_data"
    }
   ],
   "source": [
    "sns.lineplot(x=all_precisions, y=all_threshold)"
   ]
  }
 ],
 "metadata": {
  "kernelspec": {
   "display_name": "Python 3",
   "language": "python",
   "name": "python3"
  },
  "language_info": {
   "codemirror_mode": {
    "name": "ipython",
    "version": 3
   },
   "file_extension": ".py",
   "mimetype": "text/x-python",
   "name": "python",
   "nbconvert_exporter": "python",
   "pygments_lexer": "ipython3",
   "version": "3.6.5"
  }
 },
 "nbformat": 4,
 "nbformat_minor": 2
}
