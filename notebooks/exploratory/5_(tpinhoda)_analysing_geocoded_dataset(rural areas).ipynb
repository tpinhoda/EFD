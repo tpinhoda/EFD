{
 "cells": [
  {
   "cell_type": "code",
   "execution_count": 2,
   "metadata": {},
   "outputs": [],
   "source": [
    "import pandas as pd\n",
    "import numpy as np\n",
    "from tqdm import tqdm"
   ]
  },
  {
   "cell_type": "markdown",
   "metadata": {},
   "source": [
    "# Loading Data"
   ]
  },
  {
   "cell_type": "code",
   "execution_count": 3,
   "metadata": {},
   "outputs": [
    {
     "data": {
      "text/html": [
       "<div>\n",
       "<style scoped>\n",
       "    .dataframe tbody tr th:only-of-type {\n",
       "        vertical-align: middle;\n",
       "    }\n",
       "\n",
       "    .dataframe tbody tr th {\n",
       "        vertical-align: top;\n",
       "    }\n",
       "\n",
       "    .dataframe thead th {\n",
       "        text-align: right;\n",
       "    }\n",
       "</style>\n",
       "<table border=\"1\" class=\"dataframe\">\n",
       "  <thead>\n",
       "    <tr style=\"text-align: right;\">\n",
       "      <th></th>\n",
       "      <th>id_unico</th>\n",
       "      <th>local_unico</th>\n",
       "      <th>lat</th>\n",
       "      <th>lon</th>\n",
       "      <th>fetched_address</th>\n",
       "      <th>precision</th>\n",
       "      <th>LOCAL_VOTACAO</th>\n",
       "      <th>ENDERECO</th>\n",
       "      <th>CEP</th>\n",
       "      <th>COD_LOCALIDADE_IBGE</th>\n",
       "      <th>LOCALIDADE_LOCAL_VOTACAO</th>\n",
       "      <th>SGL_UF</th>\n",
       "      <th>ZONA</th>\n",
       "      <th>BAIRRO_ZONA_SEDE</th>\n",
       "      <th>LATITUDE_ZONA</th>\n",
       "      <th>LONGITUDE_ZONA</th>\n",
       "      <th>NUM_SECAO</th>\n",
       "      <th>NUM_LOCAL</th>\n",
       "      <th>BAIRRO_LOCAL_VOT</th>\n",
       "      <th>COUNTRY</th>\n",
       "    </tr>\n",
       "  </thead>\n",
       "  <tbody>\n",
       "    <tr>\n",
       "      <td>0</td>\n",
       "      <td>14385</td>\n",
       "      <td>CRECHE DONA MARIA DE ARAUJO CARNEIRO, RUA NOSS...</td>\n",
       "      <td>-5.193051</td>\n",
       "      <td>-39.304486</td>\n",
       "      <td>R. Dr. Sebastião Cavalcante, 58 - Monteiro de ...</td>\n",
       "      <td>ROOFTOP</td>\n",
       "      <td>CRECHE DONA MARIA DE ARAUJO CARNEIRO</td>\n",
       "      <td>RUA NOSSA SENHORA DA NATIVIDADE SN</td>\n",
       "      <td>62660000</td>\n",
       "      <td>2313757</td>\n",
       "      <td>UMIRIM</td>\n",
       "      <td>CE</td>\n",
       "      <td>23</td>\n",
       "      <td>CENTRO</td>\n",
       "      <td>NaN</td>\n",
       "      <td>NaN</td>\n",
       "      <td>231</td>\n",
       "      <td>1015</td>\n",
       "      <td>CENTRO-SEDE</td>\n",
       "      <td>BRASIL</td>\n",
       "    </tr>\n",
       "  </tbody>\n",
       "</table>\n",
       "</div>"
      ],
      "text/plain": [
       "   id_unico                                        local_unico       lat  \\\n",
       "0     14385  CRECHE DONA MARIA DE ARAUJO CARNEIRO, RUA NOSS... -5.193051   \n",
       "\n",
       "         lon                                    fetched_address precision  \\\n",
       "0 -39.304486  R. Dr. Sebastião Cavalcante, 58 - Monteiro de ...   ROOFTOP   \n",
       "\n",
       "                          LOCAL_VOTACAO                            ENDERECO  \\\n",
       "0  CRECHE DONA MARIA DE ARAUJO CARNEIRO  RUA NOSSA SENHORA DA NATIVIDADE SN   \n",
       "\n",
       "        CEP  COD_LOCALIDADE_IBGE LOCALIDADE_LOCAL_VOTACAO SGL_UF  ZONA  \\\n",
       "0  62660000              2313757                   UMIRIM     CE    23   \n",
       "\n",
       "  BAIRRO_ZONA_SEDE  LATITUDE_ZONA  LONGITUDE_ZONA  NUM_SECAO  NUM_LOCAL  \\\n",
       "0           CENTRO            NaN             NaN        231       1015   \n",
       "\n",
       "  BAIRRO_LOCAL_VOT COUNTRY  \n",
       "0      CENTRO-SEDE  BRASIL  "
      ]
     },
     "execution_count": 3,
     "metadata": {},
     "output_type": "execute_result"
    }
   ],
   "source": [
    "path_data =  '../../data/interim/Brazil/election_data/2018/polling_places/polling_places.csv'\n",
    "data = pd.read_csv(path_data)\n",
    "data.head(1)"
   ]
  },
  {
   "cell_type": "markdown",
   "metadata": {},
   "source": [
    "# Creating Query Addresses"
   ]
  },
  {
   "cell_type": "code",
   "execution_count": 4,
   "metadata": {},
   "outputs": [],
   "source": [
    "data['query_address'] = data['ENDERECO'] +', '+ data['BAIRRO_LOCAL_VOT'] + ' - ' +  data['LOCALIDADE_LOCAL_VOTACAO'] + ' - ' + data['SGL_UF'] + ', ' + data['CEP'].astype('str') + ', Brasil'"
   ]
  },
  {
   "cell_type": "markdown",
   "metadata": {},
   "source": [
    "# Checking for Rural Areas"
   ]
  },
  {
   "cell_type": "code",
   "execution_count": 5,
   "metadata": {},
   "outputs": [
    {
     "name": "stderr",
     "output_type": "stream",
     "text": [
      "100%|████████████████████████████████| 94661/94661 [00:00<00:00, 205180.41it/s]\n"
     ]
    }
   ],
   "source": [
    "searchfor = ['rural', 'povoado', 'pov.'  'comunidade', 'localidade', 'km', 'sitio']\n",
    "tqdm.pandas()\n",
    "data['rural'] = data['query_address'].progress_apply(lambda x: True if any(i in x.lower() for i in searchfor) else False)"
   ]
  },
  {
   "cell_type": "code",
   "execution_count": 9,
   "metadata": {},
   "outputs": [
    {
     "name": "stdout",
     "output_type": "stream",
     "text": [
      "There are 24.876136951859795% of rural areas\n"
     ]
    },
    {
     "data": {
      "text/html": [
       "<div>\n",
       "<style scoped>\n",
       "    .dataframe tbody tr th:only-of-type {\n",
       "        vertical-align: middle;\n",
       "    }\n",
       "\n",
       "    .dataframe tbody tr th {\n",
       "        vertical-align: top;\n",
       "    }\n",
       "\n",
       "    .dataframe thead th {\n",
       "        text-align: right;\n",
       "    }\n",
       "</style>\n",
       "<table border=\"1\" class=\"dataframe\">\n",
       "  <thead>\n",
       "    <tr style=\"text-align: right;\">\n",
       "      <th>rural</th>\n",
       "      <th>False</th>\n",
       "      <th>True</th>\n",
       "      <th>All</th>\n",
       "    </tr>\n",
       "    <tr>\n",
       "      <th>precision</th>\n",
       "      <th></th>\n",
       "      <th></th>\n",
       "      <th></th>\n",
       "    </tr>\n",
       "  </thead>\n",
       "  <tbody>\n",
       "    <tr>\n",
       "      <td>APPROXIMATE</td>\n",
       "      <td>4860</td>\n",
       "      <td>11590</td>\n",
       "      <td>16450</td>\n",
       "    </tr>\n",
       "    <tr>\n",
       "      <td>GEOMETRIC_CENTER</td>\n",
       "      <td>14541</td>\n",
       "      <td>7042</td>\n",
       "      <td>21583</td>\n",
       "    </tr>\n",
       "    <tr>\n",
       "      <td>NO_VALUE</td>\n",
       "      <td>174</td>\n",
       "      <td>202</td>\n",
       "      <td>376</td>\n",
       "    </tr>\n",
       "    <tr>\n",
       "      <td>RANGE_INTERPOLATED</td>\n",
       "      <td>827</td>\n",
       "      <td>56</td>\n",
       "      <td>883</td>\n",
       "    </tr>\n",
       "    <tr>\n",
       "      <td>ROOFTOP</td>\n",
       "      <td>31040</td>\n",
       "      <td>1981</td>\n",
       "      <td>33021</td>\n",
       "    </tr>\n",
       "    <tr>\n",
       "      <td>TSE</td>\n",
       "      <td>19671</td>\n",
       "      <td>2677</td>\n",
       "      <td>22348</td>\n",
       "    </tr>\n",
       "    <tr>\n",
       "      <td>All</td>\n",
       "      <td>71113</td>\n",
       "      <td>23548</td>\n",
       "      <td>94661</td>\n",
       "    </tr>\n",
       "  </tbody>\n",
       "</table>\n",
       "</div>"
      ],
      "text/plain": [
       "rural               False   True    All\n",
       "precision                              \n",
       "APPROXIMATE          4860  11590  16450\n",
       "GEOMETRIC_CENTER    14541   7042  21583\n",
       "NO_VALUE              174    202    376\n",
       "RANGE_INTERPOLATED    827     56    883\n",
       "ROOFTOP             31040   1981  33021\n",
       "TSE                 19671   2677  22348\n",
       "All                 71113  23548  94661"
      ]
     },
     "execution_count": 9,
     "metadata": {},
     "output_type": "execute_result"
    }
   ],
   "source": [
    "print('There are {}% of rural areas'.format((23548/94661)*100))\n",
    "pd.crosstab(data.precision,data.rural, margins=True)"
   ]
  },
  {
   "cell_type": "code",
   "execution_count": null,
   "metadata": {},
   "outputs": [],
   "source": []
  }
 ],
 "metadata": {
  "kernelspec": {
   "display_name": "Python 3",
   "language": "python",
   "name": "python3"
  },
  "language_info": {
   "codemirror_mode": {
    "name": "ipython",
    "version": 3
   },
   "file_extension": ".py",
   "mimetype": "text/x-python",
   "name": "python",
   "nbconvert_exporter": "python",
   "pygments_lexer": "ipython3",
   "version": "3.6.5"
  }
 },
 "nbformat": 4,
 "nbformat_minor": 2
}
