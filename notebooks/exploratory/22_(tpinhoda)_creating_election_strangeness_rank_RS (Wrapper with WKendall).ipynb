{
 "cells": [
  {
   "cell_type": "code",
   "execution_count": 15,
   "metadata": {},
   "outputs": [],
   "source": [
    "import pandas as pd\n",
    "import numpy as np\n",
    "from scipy.spatial import distance\n",
    "from os import listdir, environ\n",
    "from os.path import isfile, join\n",
    "from pathlib import Path\n",
    "import scipy.stats as stats\n",
    "from tqdm import tqdm\n",
    "from sklearn.model_selection import cross_val_score\n",
    "from sklearn.model_selection import RepeatedKFold\n",
    "from sklearn.feature_selection import RFE\n",
    "from sklearn.base import BaseEstimator, RegressorMixin\n",
    "from mlxtend.feature_selection import SequentialFeatureSelector\n",
    "from scipy.stats import rankdata\n",
    "import warnings\n",
    "warnings.filterwarnings('ignore')"
   ]
  },
  {
   "cell_type": "code",
   "execution_count": 16,
   "metadata": {},
   "outputs": [],
   "source": [
    "path_election = '../../data/ronaldo/data/TSE/RS/data/aggregated_by_weighting_area.csv'\n",
    "path_matrix = '../../data/ronaldo/data/IBGE/adjacency_matrices/weighting_areas/queen.csv'"
   ]
  },
  {
   "cell_type": "code",
   "execution_count": 17,
   "metadata": {},
   "outputs": [],
   "source": [
    "data_election = pd.read_csv(path_election)\n",
    "adjacency_matrix = pd.read_csv(path_matrix)\n",
    "adjacency_matrix.set_index('Unnamed: 0', inplace=True)\n",
    "adjacency_matrix.sort_index(inplace=True)\n",
    "\n",
    "#data_election = data_election[data_election['NM_MUNICIPIO']=='PORTO ALEGRE']\n",
    "#data_election = data_election[data_election['NM_MUNICIPIO']=='RIO GRANDE']\n",
    "#data_election = data_election[data_election['NM_MUNICIPIO']=='CAXIAS DO SUL']"
   ]
  },
  {
   "cell_type": "code",
   "execution_count": 18,
   "metadata": {},
   "outputs": [],
   "source": [
    "data_election.set_index('Cod_ap', inplace=True)\n",
    "data_election.sort_index(inplace=True)"
   ]
  },
  {
   "cell_type": "code",
   "execution_count": 19,
   "metadata": {},
   "outputs": [],
   "source": [
    "votes = data_election[['JAIR BOLSONARO', 'FERNANDO HADDAD']].copy()\n",
    "votes['FERNANDO HADDAD'] = votes['FERNANDO HADDAD'] / (votes['FERNANDO HADDAD'] + votes['JAIR BOLSONARO'])\n",
    "votes['JAIR BOLSONARO'] = 1 - votes['FERNANDO HADDAD']"
   ]
  },
  {
   "cell_type": "code",
   "execution_count": 20,
   "metadata": {},
   "outputs": [],
   "source": [
    "feature_votes = np.array(votes['JAIR BOLSONARO'].values).reshape(-1,1)\n",
    "votes_sm = distance.pdist(feature_votes,'cityblock')\n",
    "votes_sm = pd.DataFrame(distance.squareform(votes_sm), index=votes.index, columns= votes.index)"
   ]
  },
  {
   "cell_type": "code",
   "execution_count": 21,
   "metadata": {},
   "outputs": [],
   "source": [
    "wa_remove = [x for x in adjacency_matrix.index if x not in votes_sm.index]\n",
    "for wa in wa_remove:\n",
    "    adjacency_matrix.drop(wa, axis = 0, inplace=True)\n",
    "    adjacency_matrix.drop(str(wa), axis = 1, inplace=True)"
   ]
  },
  {
   "cell_type": "code",
   "execution_count": 22,
   "metadata": {},
   "outputs": [],
   "source": [
    "votes_sm = pd.DataFrame(votes_sm.values*adjacency_matrix.values, columns=votes_sm.index, index=votes_sm.index)"
   ]
  },
  {
   "cell_type": "code",
   "execution_count": 23,
   "metadata": {},
   "outputs": [],
   "source": [
    "votes_strangness = votes_sm.sum(axis=0)\n",
    "#votes_strangness.sort_values(ascending=False, inplace=True)\n",
    "rank_votes = rankdata(-votes_strangness, method='ordinal')\n",
    "rank_votes = pd.DataFrame(rank_votes, index=votes_strangness.index)"
   ]
  },
  {
   "cell_type": "code",
   "execution_count": 24,
   "metadata": {},
   "outputs": [],
   "source": [
    "\n",
    "def forward_feature_selection(census_data, rank_votes, n):\n",
    "    feature_set = []\n",
    "    for num_features in range(n):\n",
    "        metric_list = [] # Choose appropriate metric based on business problem\n",
    "        for feature in census_data.columns:\n",
    "            if feature not in feature_set:\n",
    "                f_set = feature_set.copy()\n",
    "                f_set.append(feature)\n",
    "                #feature_col = np.array(census_data[f_set].values).reshape(-1,1)\n",
    "                census_sm = distance.pdist(census_data[f_set],'cityblock')\n",
    "                census_sm = pd.DataFrame(distance.squareform(census_sm), index=census_data.index, columns= census_data.index)\n",
    "                census_sm = pd.DataFrame(census_sm.values*adjacency_matrix.values, columns=census_sm.index, index=census_sm.index)\n",
    "                census_strangness = census_sm.sum(axis=0)\n",
    "                sorted_rank = rankdata(-census_strangness, method='ordinal')\n",
    "                sorted_rank = pd.DataFrame(sorted_rank, index=census_strangness.index)\n",
    "                #tau, p_value = stats.weightedtau(rank_votes, sorted_rank)\n",
    "                tau = spearman_footrule_normalized(rank_votes,sorted_rank)\n",
    "                metric_list.append((tau,feature))\n",
    "\n",
    "        metric_list.sort(key=lambda x : x[0], reverse = False) # In case metric follows \"the more, the merrier\"\n",
    "        feature_set.append(metric_list[0][1])\n",
    "    return feature_set\n",
    "\n",
    "def spearman_footrule(a,b):\n",
    "    w = np.arange(1,len(a)+1)/len(a)\n",
    "    w = w[::-1]\n",
    "    a = a.sort_values(by=0)\n",
    "    w = pd.DataFrame(w,index=a.index)\n",
    "    diff = abs(a.sub(b))\n",
    "    d = diff.multiply(w)\n",
    "    return d[0].sum()\n",
    "\n",
    "def max_dist_spearman_footrule(a):\n",
    "    w = np.arange(1,len(a)+1)/len(a)\n",
    "    w = w[::-1]\n",
    "    a = a.sort_values(by=0)\n",
    "    w = pd.DataFrame(w,index=a.index)\n",
    "    inv_rank = np.arange(len(a),0,-1)\n",
    "    inv_rank = pd.DataFrame(inv_rank,index=a.index)\n",
    "    d = abs(a-inv_rank).multiply(w)\n",
    "    return d[0].sum()\n",
    "\n",
    "def spearman_footrule_normalized(a,b):\n",
    "    num = spearman_footrule(a,b)\n",
    "    denom = max_dist_spearman_footrule(a)\n",
    "    return float(num)/denom\n",
    "    "
   ]
  },
  {
   "cell_type": "code",
   "execution_count": 25,
   "metadata": {},
   "outputs": [],
   "source": [
    "path_census = '../../data/ronaldo/data/IBGE/census_2010/RS/aggregated_by_weighting_area/joined/'\n",
    "filenames = [filename for filename in listdir(path_census) if isfile(join(path_census, filename))]"
   ]
  },
  {
   "cell_type": "code",
   "execution_count": 26,
   "metadata": {},
   "outputs": [
    {
     "name": "stderr",
     "output_type": "stream",
     "text": [
      "100%|████████████████████████████████████████████████████| 8/8 [3:38:22<00:00, 1637.81s/it]\n"
     ]
    }
   ],
   "source": [
    "census_rank = dict()\n",
    "attributes = []\n",
    "for file in tqdm(filenames):\n",
    "    census_data = pd.read_csv(path_census+file)\n",
    "    census_data.set_index('Cod_ap', inplace=True)\n",
    "    census_data.sort_index(inplace=True)\n",
    "    census_data.drop('CD_GEOCODM', axis=1, inplace=True)\n",
    "    census_data.drop('NM_MUNICIP', axis=1, inplace=True)\n",
    "    census_data.drop(wa_remove, axis=0, inplace=True)\n",
    "    census_data=(census_data-census_data.min())/(census_data.max()-census_data.min())\n",
    "    census_data.fillna(0,inplace=True)\n",
    "    #Feature Selection Wrapper SFS\n",
    "    f_selected = forward_feature_selection(census_data, rank_votes, n=86)\n",
    "    f_selected = census_data[f_selected]\n",
    "    attributes.append(f_selected.columns.values)\n",
    "    #\n",
    "    census_sm = distance.pdist(f_selected,'cityblock')\n",
    "    census_sm = pd.DataFrame(distance.squareform(census_sm), index=census_data.index, columns= census_data.index)\n",
    "    census_sm = pd.DataFrame(census_sm.values*adjacency_matrix.values, columns=census_sm.index, index=census_sm.index)\n",
    "    census_strangness = census_sm.sum(axis=0)\n",
    "    sorted_rank = rankdata(-census_strangness, method='ordinal')\n",
    "    sorted_rank = pd.DataFrame(sorted_rank, index=census_strangness.index)\n",
    "    file = file.split('.')[0]\n",
    "    census_rank[file] = sorted_rank"
   ]
  },
  {
   "cell_type": "code",
   "execution_count": 27,
   "metadata": {},
   "outputs": [],
   "source": [
    "kendal_rank_cor = dict()\n",
    "spearman_rank_cor = dict()\n",
    "for file, attr in zip(census_rank,attributes):\n",
    "    tau, p_value = stats.weightedtau(rank_votes, census_rank[file])\n",
    "    dist = spearman_footrule_normalized(rank_votes, census_rank[file])\n",
    "    kendal_rank_cor[file] = [attr,tau]\n",
    "    spearman_rank_cor[file] = [dist]"
   ]
  },
  {
   "cell_type": "code",
   "execution_count": 28,
   "metadata": {},
   "outputs": [
    {
     "data": {
      "text/html": [
       "<div>\n",
       "<style scoped>\n",
       "    .dataframe tbody tr th:only-of-type {\n",
       "        vertical-align: middle;\n",
       "    }\n",
       "\n",
       "    .dataframe tbody tr th {\n",
       "        vertical-align: top;\n",
       "    }\n",
       "\n",
       "    .dataframe thead th {\n",
       "        text-align: right;\n",
       "    }\n",
       "</style>\n",
       "<table border=\"1\" class=\"dataframe\">\n",
       "  <thead>\n",
       "    <tr style=\"text-align: right;\">\n",
       "      <th></th>\n",
       "      <th>0</th>\n",
       "    </tr>\n",
       "  </thead>\n",
       "  <tbody>\n",
       "    <tr>\n",
       "      <th>Alfabetizacao</th>\n",
       "      <td>0.535270</td>\n",
       "    </tr>\n",
       "    <tr>\n",
       "      <th>Cor_e_Raca</th>\n",
       "      <td>0.497087</td>\n",
       "    </tr>\n",
       "    <tr>\n",
       "      <th>Domicilio</th>\n",
       "      <td>0.456021</td>\n",
       "    </tr>\n",
       "    <tr>\n",
       "      <th>Entorno</th>\n",
       "      <td>0.528036</td>\n",
       "    </tr>\n",
       "    <tr>\n",
       "      <th>Parentesco</th>\n",
       "      <td>0.495469</td>\n",
       "    </tr>\n",
       "    <tr>\n",
       "      <th>Pessoa</th>\n",
       "      <td>0.528872</td>\n",
       "    </tr>\n",
       "    <tr>\n",
       "      <th>Renda</th>\n",
       "      <td>0.474815</td>\n",
       "    </tr>\n",
       "    <tr>\n",
       "      <th>Responsavel</th>\n",
       "      <td>0.525045</td>\n",
       "    </tr>\n",
       "  </tbody>\n",
       "</table>\n",
       "</div>"
      ],
      "text/plain": [
       "                      0\n",
       "Alfabetizacao  0.535270\n",
       "Cor_e_Raca     0.497087\n",
       "Domicilio      0.456021\n",
       "Entorno        0.528036\n",
       "Parentesco     0.495469\n",
       "Pessoa         0.528872\n",
       "Renda          0.474815\n",
       "Responsavel    0.525045"
      ]
     },
     "execution_count": 28,
     "metadata": {},
     "output_type": "execute_result"
    }
   ],
   "source": [
    "kendal_rank_cor = pd.DataFrame.from_dict(kendal_rank_cor,orient='index')\n",
    "spearman_rank_cor = pd.DataFrame.from_dict(spearman_rank_cor,orient='index')\n",
    "spearman_rank_cor"
   ]
  }
 ],
 "metadata": {
  "hide_input": false,
  "kernelspec": {
   "display_name": "Python 3",
   "language": "python",
   "name": "python3"
  },
  "language_info": {
   "codemirror_mode": {
    "name": "ipython",
    "version": 3
   },
   "file_extension": ".py",
   "mimetype": "text/x-python",
   "name": "python",
   "nbconvert_exporter": "python",
   "pygments_lexer": "ipython3",
   "version": "3.8.3"
  }
 },
 "nbformat": 4,
 "nbformat_minor": 4
}
