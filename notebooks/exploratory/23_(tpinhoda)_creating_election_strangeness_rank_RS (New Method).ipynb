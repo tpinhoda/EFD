{
 "cells": [
  {
   "cell_type": "code",
   "execution_count": 13,
   "metadata": {},
   "outputs": [],
   "source": [
    "import pandas as pd\n",
    "import numpy as np\n",
    "from scipy.spatial import distance\n",
    "from os import listdir, environ\n",
    "from os.path import isfile, join\n",
    "from pathlib import Path\n",
    "import scipy.stats as stats\n",
    "from tqdm import tqdm\n",
    "from sklearn.model_selection import cross_val_score\n",
    "from sklearn.model_selection import RepeatedKFold\n",
    "from sklearn.feature_selection import RFE\n",
    "from sklearn.base import BaseEstimator, RegressorMixin\n",
    "from mlxtend.feature_selection import SequentialFeatureSelector\n",
    "from scipy.stats import rankdata\n",
    "import warnings\n",
    "warnings.filterwarnings('ignore')"
   ]
  },
  {
   "cell_type": "code",
   "execution_count": 14,
   "metadata": {},
   "outputs": [],
   "source": [
    "path_election = '../../data/ronaldo/data/TSE/RS/data/aggregated_by_weighting_area.csv'\n",
    "path_matrix = '../../data/ronaldo/data/IBGE/adjacency_matrices/weighting_areas/queen.csv'\n",
    "ref = '../../data/ronaldo/data/IBGE/regioes_geograficas.csv'"
   ]
  },
  {
   "cell_type": "code",
   "execution_count": 15,
   "metadata": {},
   "outputs": [],
   "source": [
    "data_election = pd.read_csv(path_election)\n",
    "adjacency_matrix = pd.read_csv(path_matrix)\n",
    "adjacency_matrix.set_index('Unnamed: 0', inplace=True)\n",
    "adjacency_matrix.sort_index(inplace=True)\n",
    "\n",
    "ref_regioes = pd.read_csv(ref, sep=';', encoding='latin') \n",
    "data_election = data_election.merge(ref_regioes, on='COD_LOCALIDADE_IBGE', how='left')\n",
    "#data_election = data_election[data_election['NM_MUNICIPIO']=='PORTO ALEGRE']\n",
    "#data_election = data_election[data_election['NM_MUNICIPIO']=='RIO GRANDE']\n",
    "#data_election = data_election[data_election['NM_MUNICIPIO']=='CAXIAS DO SUL']"
   ]
  },
  {
   "cell_type": "code",
   "execution_count": 16,
   "metadata": {},
   "outputs": [],
   "source": [
    "data_election.set_index('Cod_ap', inplace=True)\n",
    "data_election.sort_index(inplace=True)\n",
    "votes = data_election[['JAIR BOLSONARO', 'FERNANDO HADDAD']].copy()\n",
    "votes['FERNANDO HADDAD'] = votes['FERNANDO HADDAD'] / (votes['FERNANDO HADDAD'] + votes['JAIR BOLSONARO'])\n",
    "votes['JAIR BOLSONARO'] = 1 - votes['FERNANDO HADDAD']\n",
    "feature_votes = np.array(votes['JAIR BOLSONARO'].values).reshape(-1,1)\n",
    "votes_sm = distance.pdist(feature_votes,'cityblock')\n",
    "votes_sm = pd.DataFrame(distance.squareform(votes_sm), index=votes.index, columns= votes.index)\n",
    "wa_remove = [x for x in adjacency_matrix.index if x not in votes_sm.index]\n",
    "for wa in wa_remove:\n",
    "    adjacency_matrix.drop(wa, axis = 0, inplace=True)\n",
    "    adjacency_matrix.drop(str(wa), axis = 1, inplace=True)\n",
    "votes_sm = pd.DataFrame(votes_sm.values*adjacency_matrix.values, columns=votes_sm.index, index=votes_sm.index)\n",
    "votes_strangness = votes_sm.sum(axis=0)\n",
    "rank_votes = rankdata(-votes_strangness, method='ordinal')\n",
    "rank_votes = pd.DataFrame(rank_votes, index=votes_strangness.index)"
   ]
  },
  {
   "cell_type": "code",
   "execution_count": 17,
   "metadata": {},
   "outputs": [],
   "source": [
    "def dumb():\n",
    "    city_ranks = dict()\n",
    "    city_strangeness = dict()\n",
    "    for index, data in tqdm(data_election.groupby('cod_rgi')):\n",
    "        data.set_index('Cod_ap', inplace=True)\n",
    "        data.sort_index(inplace=True)\n",
    "        votes = data[['JAIR BOLSONARO', 'FERNANDO HADDAD',]].copy()\n",
    "        votes['FERNANDO HADDAD'] = votes['FERNANDO HADDAD'] / (votes['FERNANDO HADDAD'] + votes['JAIR BOLSONARO'])\n",
    "        votes['JAIR BOLSONARO'] = 1 - votes['FERNANDO HADDAD']\n",
    "        feature_votes = np.array(votes['JAIR BOLSONARO'].values).reshape(-1,1)\n",
    "        votes_sm = distance.pdist(feature_votes,'cityblock')\n",
    "        votes_sm = pd.DataFrame(distance.squareform(votes_sm), index=votes.index, columns= votes.index)\n",
    "        wa_remove = [x for x in adjacency_matrix.index if x not in votes_sm.index]\n",
    "        adj_m = adjacency_matrix.copy()\n",
    "        for wa in wa_remove:\n",
    "            adj_m.drop(wa, axis = 0, inplace=True)\n",
    "            adj_m.drop(str(wa), axis = 1, inplace=True)\n",
    "        votes_sm = pd.DataFrame(votes_sm.values*adj_m.values, columns=votes_sm.index, index=votes_sm.index)\n",
    "        votes_strangness = votes_sm.sum(axis=0)\n",
    "        rank_votes = rankdata(-votes_strangness, method='ordinal')\n",
    "        rank_votes = pd.DataFrame(rank_votes, index=votes_strangness.index)\n",
    "        city_ranks[index] = rank_votes\n",
    "        city_strangeness[index] = votes_strangness"
   ]
  },
  {
   "cell_type": "code",
   "execution_count": 18,
   "metadata": {},
   "outputs": [],
   "source": [
    "def forward_feature_selection(census_data, rank_votes, n, adjacency_matrix, idx):\n",
    "    feature_set = []\n",
    "    for num_features in range(n):\n",
    "        metric_list = [] # Choose appropriate metric based on business problem\n",
    "        for feature in census_data.columns:\n",
    "            if feature not in feature_set:\n",
    "                f_set = feature_set.copy()\n",
    "                f_set.append(feature)\n",
    "                wa_remove_census = [x for x in census_data.index if x not in adjacency_matrix.index]\n",
    "                census_data.drop(wa_remove_census, axis=0, inplace=True)\n",
    "                feature_col = np.array(census_data[feature].values).reshape(-1,1)\n",
    "                census_sm = distance.pdist(feature_col,'cityblock')\n",
    "                census_sm = pd.DataFrame(distance.squareform(census_sm), index=census_data.index, columns= census_data.index)\n",
    "                census_sm = pd.DataFrame(census_sm.values*adjacency_matrix.values, columns=census_sm.index, index=census_sm.index)\n",
    "                census_strangness = census_sm.sum(axis=0)\n",
    "            \n",
    "                sorted_rank = rankdata(-census_strangness, method='ordinal')\n",
    "                sorted_rank = pd.DataFrame(sorted_rank, index=census_strangness.index)\n",
    "                sorted_rank = rankdata(sorted_rank.loc[idx], method = 'ordinal')\n",
    "                sorted_rank = pd.DataFrame(sorted_rank, index=idx)\n",
    "                #sorted_rank = rankdata(sorted_rank, method='ordinal')\n",
    "                rank_votes = rankdata(rank_votes, method='ordinal')\n",
    "                rank_votes = pd.DataFrame(rank_votes, index=idx)\n",
    "                #tau, p_value = stats.weightedtau(rank_votes, sorted_rank)\n",
    "                tau = spearman_footrule_normalized(rank_votes,sorted_rank)\n",
    "                metric_list.append((tau,feature))\n",
    "\n",
    "        metric_list.sort(key=lambda x : x[0], reverse = False) # In case metric follows \"the more, the merrier\"\n",
    "        feature_set.append(metric_list[0][1])\n",
    "    return feature_set \n",
    "\n",
    "def spearman_footrule(a,b):\n",
    "    w = np.arange(1,len(a)+1)/len(a)\n",
    "    w = w[::-1]\n",
    "    a = a.sort_values(by=0)\n",
    "    w = pd.DataFrame(w,index=a.index)\n",
    "    diff = abs(a.sub(b))\n",
    "    d = diff.multiply(w)\n",
    "    return d[0].sum()\n",
    "\n",
    "def max_dist_spearman_footrule(a):\n",
    "    w = np.arange(1,len(a)+1)/len(a)\n",
    "    w = w[::-1]\n",
    "    a = a.sort_values(by=0)\n",
    "    w = pd.DataFrame(w,index=a.index)\n",
    "    inv_rank = np.arange(len(a),0,-1)\n",
    "    inv_rank = pd.DataFrame(inv_rank,index=a.index)\n",
    "    d = abs(a-inv_rank).multiply(w)\n",
    "    return d[0].sum()\n",
    "\n",
    "def spearman_footrule_normalized(a,b):\n",
    "    num = spearman_footrule(a,b)\n",
    "    denom = max_dist_spearman_footrule(a)\n",
    "    return float(num)/denom    "
   ]
  },
  {
   "cell_type": "code",
   "execution_count": 19,
   "metadata": {},
   "outputs": [],
   "source": [
    "path_census = '../../data/ronaldo/data/IBGE/census_2010/RS/aggregated_by_weighting_area/joined/'\n",
    "filenames = [filename for filename in listdir(path_census) if isfile(join(path_census, filename))]"
   ]
  },
  {
   "cell_type": "code",
   "execution_count": 20,
   "metadata": {},
   "outputs": [
    {
     "name": "stderr",
     "output_type": "stream",
     "text": [
      "100%|███████████████████████████████████████████████████| 43/43 [1:16:11<00:00, 106.31s/it]\n"
     ]
    }
   ],
   "source": [
    "final_rank = []\n",
    "scores = []\n",
    "for region, data_votes in tqdm(data_election.groupby('cod_rgi')):\n",
    "    census_rank = dict()\n",
    "    census_stran = dict()\n",
    "    attributes = []\n",
    "    for file in filenames:\n",
    "        census_data = pd.read_csv(path_census+file)\n",
    "       # census_data = census_data.merge(ref_regioes[['CD_GEOCODM','cod_rgi']], on='CD_GEOCODM', how='left')\n",
    "       # census_data = census_data[census_data['cod_rgi']==region]\n",
    "        census_data.set_index('Cod_ap', inplace=True)\n",
    "        census_data.sort_index(inplace=True)\n",
    "        census_data.drop('CD_GEOCODM', axis=1, inplace=True)\n",
    "        census_data.drop('NM_MUNICIP', axis=1, inplace=True)\n",
    "        census_data=(census_data-census_data.min())/(census_data.max()-census_data.min())\n",
    "        census_data.fillna(0,inplace=True)\n",
    "        #remove regioes\n",
    "        #wa_remove_adj = [x for x in adjacency_matrix.index if x not in data_votes.index]\n",
    "        #wa_remove_census = [x for x in census_data.index if x not in data_votes.index]\n",
    "        #census_data.drop(wa_remove_census, axis=0, inplace=True)\n",
    "        adj_m = adjacency_matrix.copy()\n",
    "        #adj_m.drop(wa_remove_adj, axis = 0, inplace=True)\n",
    "        #for wa in wa_remove_adj:\n",
    "        #    adj_m.drop(str(wa), axis = 1, inplace=True)\n",
    "        #Feature Selection Wrapper SFS\n",
    "        f_selected = forward_feature_selection(census_data, rank_votes.loc[data_votes.index], 1, adj_m, data_votes.index)\n",
    "        f_selected = census_data[f_selected]\n",
    "        attributes.append(f_selected.columns.values)\n",
    "        # fim\n",
    "        census_sm = distance.pdist(f_selected,'cityblock')\n",
    "        census_sm = pd.DataFrame(distance.squareform(census_sm), index=census_data.index, columns= census_data.index)\n",
    "        census_sm = pd.DataFrame(census_sm.values*adj_m.values, columns=census_sm.index, index=census_sm.index)\n",
    "        census_strangness = census_sm.sum(axis=0)\n",
    "        #normalize regarging votes\n",
    "        census_strangness = census_strangness.loc[data_votes.index]\n",
    "        b =  votes_strangness[data_votes.index].max()\n",
    "        a =  votes_strangness[data_votes.index].min()\n",
    "        census_strangness =  (b-a)*((census_strangness-census_strangness.min())/(census_strangness.max()-census_strangness.min()))+a  \n",
    "        \n",
    "        #\n",
    "        sorted_rank = rankdata(-census_strangness, method='ordinal')\n",
    "        sorted_rank = pd.DataFrame(sorted_rank, index=census_strangness.index)\n",
    "        file = file.split('.')[0]\n",
    "        census_rank[file] = sorted_rank\n",
    "        census_stran[file] = census_strangness\n",
    "    #Calculate Wkendal    \n",
    "    kendal_rank_cor = dict()\n",
    "    spearman_rank_cor = dict()\n",
    "    for file, attr in zip(census_rank,attributes):\n",
    "        tau, p_value = stats.weightedtau(rank_votes.loc[data_votes.index], census_rank[file])\n",
    "        dist = spearman_footrule_normalized(rank_votes, census_rank[file])\n",
    "        kendal_rank_cor[file] = [attr,tau]\n",
    "        spearman_rank_cor[file] = [attr,dist]\n",
    "\n",
    "    #Get max rank\n",
    "    kendal_rank_cor = pd.DataFrame.from_dict(kendal_rank_cor,orient='index', columns = ['attr','eval'])\n",
    "    spearman_rank_cor = pd.DataFrame.from_dict(spearman_rank_cor,orient='index', columns = ['attr','eval'])\n",
    "    #max_categorie = kendal_rank_cor['eval'].idxmax()\n",
    "    max_categorie = spearman_rank_cor['eval'].idxmax()\n",
    "    max_stran = census_stran[max_categorie]\n",
    "    #scores = scores + [spearman_rank_cor.max()]\n",
    "    final_rank = final_rank + [max_stran]"
   ]
  },
  {
   "cell_type": "code",
   "execution_count": 21,
   "metadata": {},
   "outputs": [],
   "source": [
    "#norm_final_rank = [(r-r.min())/(r.max()-r.min()) for r in final_rank]   \n",
    "rank = pd.concat(final_rank, axis=0)\n",
    "rank.sort_index(inplace=True)\n",
    "rank_sorted = rankdata(-rank, method='ordinal')\n",
    "rank_sorted = pd.DataFrame(rank_sorted, index=votes_strangness.index)"
   ]
  },
  {
   "cell_type": "code",
   "execution_count": 22,
   "metadata": {},
   "outputs": [],
   "source": [
    "#rank_votes = rankdata(-votes_strangness, method='ordinal')\n",
    "tau, p_value = stats.weightedtau(rank_votes, rank_sorted)\n",
    "dist = spearman_footrule_normalized(rank_votes, rank_sorted)\n",
    "#print(rank.loc[int(rank_votes.sort_values().index[0]),])\n",
    "#rank_sorted.sort_values(ascending=False)\n",
    "#rank.sort_values(ascending=False)\n",
    "#rank_votes = pd.DataFrame(rank_votes, index=votes_strangness.index, columns=['pos'])\n",
    "#rank_sorted = pd.DataFrame(rank_sorted, index=votes_strangness.index,columns=['pos'])\n",
    "#rank_sorted.loc[int(rank_votes.sort_values(by='pos',ascending=False).index[2]),]\n",
    "#rank_votes.loc[int(rank_sorted.sort_values(by='pos',ascending=False).index[0]),]\n",
    "\n",
    "#print(rank_sorted.sort_values(by='pos',ascending=True))\n",
    "#rank.sort_values(ascending=False)\n",
    "#print(votes_strangness.sort_values(ascending=False))\n",
    "#rank.sort_values(ascending=False)"
   ]
  },
  {
   "cell_type": "code",
   "execution_count": 23,
   "metadata": {},
   "outputs": [
    {
     "data": {
      "text/plain": [
       "0.6006907355489031"
      ]
     },
     "execution_count": 23,
     "metadata": {},
     "output_type": "execute_result"
    }
   ],
   "source": [
    "tau"
   ]
  }
 ],
 "metadata": {
  "hide_input": false,
  "kernelspec": {
   "display_name": "Python 3",
   "language": "python",
   "name": "python3"
  },
  "language_info": {
   "codemirror_mode": {
    "name": "ipython",
    "version": 3
   },
   "file_extension": ".py",
   "mimetype": "text/x-python",
   "name": "python",
   "nbconvert_exporter": "python",
   "pygments_lexer": "ipython3",
   "version": "3.8.3"
  }
 },
 "nbformat": 4,
 "nbformat_minor": 4
}
