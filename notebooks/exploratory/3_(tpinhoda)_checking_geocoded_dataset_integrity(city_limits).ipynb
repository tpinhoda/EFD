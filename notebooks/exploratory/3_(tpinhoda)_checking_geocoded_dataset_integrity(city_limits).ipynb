{
 "cells": [
  {
   "cell_type": "code",
   "execution_count": 143,
   "metadata": {},
   "outputs": [],
   "source": [
    "import pandas as pd\n",
    "import numpy as np\n",
    "import geopandas as gpd\n",
    "from shapely.geometry import Point\n",
    "from tqdm._tqdm_notebook import tqdm_notebook as tqdm "
   ]
  },
  {
   "cell_type": "markdown",
   "metadata": {},
   "source": [
    "# Reading data"
   ]
  },
  {
   "cell_type": "code",
   "execution_count": 183,
   "metadata": {},
   "outputs": [
    {
     "data": {
      "text/html": [
       "<div>\n",
       "<style scoped>\n",
       "    .dataframe tbody tr th:only-of-type {\n",
       "        vertical-align: middle;\n",
       "    }\n",
       "\n",
       "    .dataframe tbody tr th {\n",
       "        vertical-align: top;\n",
       "    }\n",
       "\n",
       "    .dataframe thead th {\n",
       "        text-align: right;\n",
       "    }\n",
       "</style>\n",
       "<table border=\"1\" class=\"dataframe\">\n",
       "  <thead>\n",
       "    <tr style=\"text-align: right;\">\n",
       "      <th></th>\n",
       "      <th>id_unico</th>\n",
       "      <th>local_unico</th>\n",
       "      <th>lat</th>\n",
       "      <th>lon</th>\n",
       "      <th>fetched_address</th>\n",
       "      <th>precision</th>\n",
       "      <th>LOCAL_VOTACAO</th>\n",
       "      <th>ENDERECO</th>\n",
       "      <th>CEP</th>\n",
       "      <th>COD_LOCALIDADE_IBGE</th>\n",
       "      <th>LOCALIDADE_LOCAL_VOTACAO</th>\n",
       "      <th>SGL_UF</th>\n",
       "      <th>ZONA</th>\n",
       "      <th>BAIRRO_ZONA_SEDE</th>\n",
       "      <th>LATITUDE_ZONA</th>\n",
       "      <th>LONGITUDE_ZONA</th>\n",
       "      <th>NUM_SECAO</th>\n",
       "      <th>NUM_LOCAL</th>\n",
       "      <th>BAIRRO_LOCAL_VOT</th>\n",
       "      <th>COUNTRY</th>\n",
       "    </tr>\n",
       "  </thead>\n",
       "  <tbody>\n",
       "    <tr>\n",
       "      <td>0</td>\n",
       "      <td>14385</td>\n",
       "      <td>CRECHE DONA MARIA DE ARAUJO CARNEIRO, RUA NOSS...</td>\n",
       "      <td>-5.193051</td>\n",
       "      <td>-39.304486</td>\n",
       "      <td>R. Dr. Sebastião Cavalcante, 58 - Monteiro de ...</td>\n",
       "      <td>ROOFTOP</td>\n",
       "      <td>CRECHE DONA MARIA DE ARAUJO CARNEIRO</td>\n",
       "      <td>RUA NOSSA SENHORA DA NATIVIDADE SN</td>\n",
       "      <td>62660000</td>\n",
       "      <td>2313757</td>\n",
       "      <td>UMIRIM</td>\n",
       "      <td>CE</td>\n",
       "      <td>23</td>\n",
       "      <td>CENTRO</td>\n",
       "      <td>NaN</td>\n",
       "      <td>NaN</td>\n",
       "      <td>231</td>\n",
       "      <td>1015</td>\n",
       "      <td>CENTRO-SEDE</td>\n",
       "      <td>BRASIL</td>\n",
       "    </tr>\n",
       "  </tbody>\n",
       "</table>\n",
       "</div>"
      ],
      "text/plain": [
       "   id_unico                                        local_unico       lat  \\\n",
       "0     14385  CRECHE DONA MARIA DE ARAUJO CARNEIRO, RUA NOSS... -5.193051   \n",
       "\n",
       "         lon                                    fetched_address precision  \\\n",
       "0 -39.304486  R. Dr. Sebastião Cavalcante, 58 - Monteiro de ...   ROOFTOP   \n",
       "\n",
       "                          LOCAL_VOTACAO                            ENDERECO  \\\n",
       "0  CRECHE DONA MARIA DE ARAUJO CARNEIRO  RUA NOSSA SENHORA DA NATIVIDADE SN   \n",
       "\n",
       "        CEP  COD_LOCALIDADE_IBGE LOCALIDADE_LOCAL_VOTACAO SGL_UF  ZONA  \\\n",
       "0  62660000              2313757                   UMIRIM     CE    23   \n",
       "\n",
       "  BAIRRO_ZONA_SEDE  LATITUDE_ZONA  LONGITUDE_ZONA  NUM_SECAO  NUM_LOCAL  \\\n",
       "0           CENTRO            NaN             NaN        231       1015   \n",
       "\n",
       "  BAIRRO_LOCAL_VOT COUNTRY  \n",
       "0      CENTRO-SEDE  BRASIL  "
      ]
     },
     "execution_count": 183,
     "metadata": {},
     "output_type": "execute_result"
    }
   ],
   "source": [
    "path_data_geo =  '../../data/interim/Brazil/election_data/2018/polling_places/polling_places.csv'\n",
    "data_geo = pd.read_csv(path_data_geo)\n",
    "data_geo.head(1)"
   ]
  },
  {
   "cell_type": "code",
   "execution_count": 184,
   "metadata": {},
   "outputs": [
    {
     "data": {
      "text/plain": [
       "{'init': 'epsg:4674'}"
      ]
     },
     "execution_count": 184,
     "metadata": {},
     "output_type": "execute_result"
    }
   ],
   "source": [
    "city_maps = gpd.read_file(\"../../data/raw/Brazil/ibge/digital_mesh/municipios/BRMUE250GC_SIR.shp\",  encoding = 'utf-8')\n",
    "city_maps[\"NM_MUNICIP\"] = city_maps.NM_MUNICIP.astype(str)\n",
    "city_maps[\"CD_GEOCMU\"] = city_maps.CD_GEOCMU.astype(str)\n",
    "city_maps.crs"
   ]
  },
  {
   "cell_type": "markdown",
   "metadata": {},
   "source": [
    "# Adding buffer to limits in order to get points in the border"
   ]
  },
  {
   "cell_type": "code",
   "execution_count": 185,
   "metadata": {},
   "outputs": [
    {
     "data": {
      "application/vnd.jupyter.widget-view+json": {
       "model_id": "70fc39b9143148e49da5440d63def167",
       "version_major": 2,
       "version_minor": 0
      },
      "text/plain": [
       "HBox(children=(IntProgress(value=0, max=5572), HTML(value='')))"
      ]
     },
     "metadata": {},
     "output_type": "display_data"
    },
    {
     "name": "stdout",
     "output_type": "stream",
     "text": [
      "\n"
     ]
    }
   ],
   "source": [
    "city_maps['geometry'] = tqdm(city_maps['geometry'].buffer(0.06))"
   ]
  },
  {
   "cell_type": "markdown",
   "metadata": {},
   "source": [
    "# Creating a geopandas dataframe from the locations"
   ]
  },
  {
   "cell_type": "code",
   "execution_count": 186,
   "metadata": {
    "scrolled": true
   },
   "outputs": [
    {
     "data": {
      "text/html": [
       "<div>\n",
       "<style scoped>\n",
       "    .dataframe tbody tr th:only-of-type {\n",
       "        vertical-align: middle;\n",
       "    }\n",
       "\n",
       "    .dataframe tbody tr th {\n",
       "        vertical-align: top;\n",
       "    }\n",
       "\n",
       "    .dataframe thead th {\n",
       "        text-align: right;\n",
       "    }\n",
       "</style>\n",
       "<table border=\"1\" class=\"dataframe\">\n",
       "  <thead>\n",
       "    <tr style=\"text-align: right;\">\n",
       "      <th></th>\n",
       "      <th>id_unico</th>\n",
       "      <th>local_unico</th>\n",
       "      <th>lat</th>\n",
       "      <th>lon</th>\n",
       "      <th>fetched_address</th>\n",
       "      <th>precision</th>\n",
       "      <th>LOCAL_VOTACAO</th>\n",
       "      <th>ENDERECO</th>\n",
       "      <th>CEP</th>\n",
       "      <th>COD_LOCALIDADE_IBGE</th>\n",
       "      <th>...</th>\n",
       "      <th>SGL_UF</th>\n",
       "      <th>ZONA</th>\n",
       "      <th>BAIRRO_ZONA_SEDE</th>\n",
       "      <th>LATITUDE_ZONA</th>\n",
       "      <th>LONGITUDE_ZONA</th>\n",
       "      <th>NUM_SECAO</th>\n",
       "      <th>NUM_LOCAL</th>\n",
       "      <th>BAIRRO_LOCAL_VOT</th>\n",
       "      <th>COUNTRY</th>\n",
       "      <th>geometry</th>\n",
       "    </tr>\n",
       "  </thead>\n",
       "  <tbody>\n",
       "    <tr>\n",
       "      <td>0</td>\n",
       "      <td>14385</td>\n",
       "      <td>CRECHE DONA MARIA DE ARAUJO CARNEIRO, RUA NOSS...</td>\n",
       "      <td>-5.193051</td>\n",
       "      <td>-39.304486</td>\n",
       "      <td>R. Dr. Sebastião Cavalcante, 58 - Monteiro de ...</td>\n",
       "      <td>ROOFTOP</td>\n",
       "      <td>CRECHE DONA MARIA DE ARAUJO CARNEIRO</td>\n",
       "      <td>RUA NOSSA SENHORA DA NATIVIDADE SN</td>\n",
       "      <td>62660000</td>\n",
       "      <td>2313757</td>\n",
       "      <td>...</td>\n",
       "      <td>CE</td>\n",
       "      <td>23</td>\n",
       "      <td>CENTRO</td>\n",
       "      <td>NaN</td>\n",
       "      <td>NaN</td>\n",
       "      <td>231</td>\n",
       "      <td>1015</td>\n",
       "      <td>CENTRO-SEDE</td>\n",
       "      <td>BRASIL</td>\n",
       "      <td>POINT (-39.3044857 -5.193051000000001)</td>\n",
       "    </tr>\n",
       "  </tbody>\n",
       "</table>\n",
       "<p>1 rows × 21 columns</p>\n",
       "</div>"
      ],
      "text/plain": [
       "   id_unico                                        local_unico       lat  \\\n",
       "0     14385  CRECHE DONA MARIA DE ARAUJO CARNEIRO, RUA NOSS... -5.193051   \n",
       "\n",
       "         lon                                    fetched_address precision  \\\n",
       "0 -39.304486  R. Dr. Sebastião Cavalcante, 58 - Monteiro de ...   ROOFTOP   \n",
       "\n",
       "                          LOCAL_VOTACAO                            ENDERECO  \\\n",
       "0  CRECHE DONA MARIA DE ARAUJO CARNEIRO  RUA NOSSA SENHORA DA NATIVIDADE SN   \n",
       "\n",
       "        CEP  COD_LOCALIDADE_IBGE  ... SGL_UF ZONA  BAIRRO_ZONA_SEDE  \\\n",
       "0  62660000              2313757  ...     CE   23            CENTRO   \n",
       "\n",
       "  LATITUDE_ZONA  LONGITUDE_ZONA  NUM_SECAO  NUM_LOCAL  BAIRRO_LOCAL_VOT  \\\n",
       "0           NaN             NaN        231       1015       CENTRO-SEDE   \n",
       "\n",
       "  COUNTRY                                geometry  \n",
       "0  BRASIL  POINT (-39.3044857 -5.193051000000001)  \n",
       "\n",
       "[1 rows x 21 columns]"
      ]
     },
     "execution_count": 186,
     "metadata": {},
     "output_type": "execute_result"
    }
   ],
   "source": [
    "geometry = [ Point( ( row.lon, row.lat ) ) for index, row in data_geo.iterrows() ]\n",
    "data_geo = gpd.GeoDataFrame( data_geo, geometry = geometry )\n",
    "data_geo.crs = {'init': 'epsg:4674'}\n",
    "data_geo.head(1)"
   ]
  },
  {
   "cell_type": "markdown",
   "metadata": {},
   "source": [
    "# Verifiying if locations are inside city limits"
   ]
  },
  {
   "cell_type": "code",
   "execution_count": 187,
   "metadata": {},
   "outputs": [
    {
     "data": {
      "application/vnd.jupyter.widget-view+json": {
       "model_id": "00a4bdd4907b44f4a0759ce6433180b5",
       "version_major": 2,
       "version_minor": 0
      },
      "text/plain": [
       "HBox(children=(IntProgress(value=1, bar_style='info', max=1), HTML(value='')))"
      ]
     },
     "metadata": {},
     "output_type": "display_data"
    },
    {
     "name": "stdout",
     "output_type": "stream",
     "text": [
      "\n"
     ]
    }
   ],
   "source": [
    "to_concat = []\n",
    "for index, location in tqdm(data_geo.iterrows()):\n",
    "    \n",
    "    city = city_maps[city_maps.CD_GEOCMU == str(location['COD_LOCALIDADE_IBGE'])].reset_index(drop=True)\n",
    "    city_polygon = city['geometry'].values[0]\n",
    "    point = location['geometry']\n",
    "    if point.within(city_polygon):\n",
    "        to_concat = to_concat + ['in']\n",
    "    else:\n",
    "        to_concat = to_concat + ['out']\n",
    "        \n",
    "data_geo['city_limits'] = to_concat"
   ]
  },
  {
   "cell_type": "markdown",
   "metadata": {},
   "source": [
    "# Total number of locations in and out of city limits"
   ]
  },
  {
   "cell_type": "code",
   "execution_count": 188,
   "metadata": {},
   "outputs": [
    {
     "data": {
      "text/plain": [
       "in     85515\n",
       "out     9146\n",
       "Name: city_limits, dtype: int64"
      ]
     },
     "execution_count": 188,
     "metadata": {},
     "output_type": "execute_result"
    }
   ],
   "source": [
    "data_geo.city_limits.value_counts()"
   ]
  },
  {
   "cell_type": "markdown",
   "metadata": {},
   "source": [
    "# Total number TSE of locations in and out of city limits"
   ]
  },
  {
   "cell_type": "code",
   "execution_count": 189,
   "metadata": {},
   "outputs": [
    {
     "data": {
      "text/plain": [
       "in     22299\n",
       "out       49\n",
       "Name: city_limits, dtype: int64"
      ]
     },
     "execution_count": 189,
     "metadata": {},
     "output_type": "execute_result"
    }
   ],
   "source": [
    "data_geo[data_geo['precision'] == 'TSE'].city_limits.value_counts()"
   ]
  },
  {
   "cell_type": "markdown",
   "metadata": {},
   "source": [
    "# Total number of ROOFTOP locations in and out of city limits"
   ]
  },
  {
   "cell_type": "code",
   "execution_count": 190,
   "metadata": {},
   "outputs": [
    {
     "data": {
      "text/plain": [
       "in     32309\n",
       "out      712\n",
       "Name: city_limits, dtype: int64"
      ]
     },
     "execution_count": 190,
     "metadata": {},
     "output_type": "execute_result"
    }
   ],
   "source": [
    "data_geo[data_geo['precision'] == 'ROOFTOP'].city_limits.value_counts()"
   ]
  },
  {
   "cell_type": "markdown",
   "metadata": {},
   "source": [
    "# Total number of Range Interpolated locations in and out of city limits"
   ]
  },
  {
   "cell_type": "code",
   "execution_count": 191,
   "metadata": {},
   "outputs": [
    {
     "data": {
      "text/plain": [
       "in     802\n",
       "out     81\n",
       "Name: city_limits, dtype: int64"
      ]
     },
     "execution_count": 191,
     "metadata": {},
     "output_type": "execute_result"
    }
   ],
   "source": [
    "data_geo[data_geo['precision'] == 'RANGE_INTERPOLATED'].city_limits.value_counts()"
   ]
  },
  {
   "cell_type": "markdown",
   "metadata": {},
   "source": [
    "# Total number of GEOMETRIC CENTER locations in and out of city limits"
   ]
  },
  {
   "cell_type": "code",
   "execution_count": 192,
   "metadata": {},
   "outputs": [
    {
     "data": {
      "text/plain": [
       "in     20422\n",
       "out     1161\n",
       "Name: city_limits, dtype: int64"
      ]
     },
     "execution_count": 192,
     "metadata": {},
     "output_type": "execute_result"
    }
   ],
   "source": [
    "data_geo[data_geo['precision'] == 'GEOMETRIC_CENTER'].city_limits.value_counts()"
   ]
  },
  {
   "cell_type": "markdown",
   "metadata": {},
   "source": [
    "# Total number of APPROXIMATED locations in and out of city limits"
   ]
  },
  {
   "cell_type": "code",
   "execution_count": 193,
   "metadata": {},
   "outputs": [
    {
     "data": {
      "text/plain": [
       "in     9683\n",
       "out    6767\n",
       "Name: city_limits, dtype: int64"
      ]
     },
     "execution_count": 193,
     "metadata": {},
     "output_type": "execute_result"
    }
   ],
   "source": [
    "data_geo[data_geo['precision'] == 'APPROXIMATE'].city_limits.value_counts()"
   ]
  },
  {
   "cell_type": "markdown",
   "metadata": {},
   "source": [
    "# Checking TSE out city locations"
   ]
  },
  {
   "cell_type": "code",
   "execution_count": 66,
   "metadata": {},
   "outputs": [
    {
     "data": {
      "text/html": [
       "<div>\n",
       "<style scoped>\n",
       "    .dataframe tbody tr th:only-of-type {\n",
       "        vertical-align: middle;\n",
       "    }\n",
       "\n",
       "    .dataframe tbody tr th {\n",
       "        vertical-align: top;\n",
       "    }\n",
       "\n",
       "    .dataframe thead th {\n",
       "        text-align: right;\n",
       "    }\n",
       "</style>\n",
       "<table border=\"1\" class=\"dataframe\">\n",
       "  <thead>\n",
       "    <tr style=\"text-align: right;\">\n",
       "      <th></th>\n",
       "      <th>id_unico</th>\n",
       "      <th>LOCALIDADE_LOCAL_VOTACAO</th>\n",
       "      <th>COD_LOCALIDADE_IBGE</th>\n",
       "      <th>city_limits</th>\n",
       "      <th>geometry</th>\n",
       "    </tr>\n",
       "  </thead>\n",
       "  <tbody>\n",
       "    <tr>\n",
       "      <td>1351</td>\n",
       "      <td>17153</td>\n",
       "      <td>MOREILÂNDIA</td>\n",
       "      <td>2614303</td>\n",
       "      <td>out</td>\n",
       "      <td>POINT (-39.43196643 -7.56775657)</td>\n",
       "    </tr>\n",
       "    <tr>\n",
       "      <td>1840</td>\n",
       "      <td>67764</td>\n",
       "      <td>APUÍ</td>\n",
       "      <td>1300144</td>\n",
       "      <td>out</td>\n",
       "      <td>POINT (-58.15228271 -7.34111016)</td>\n",
       "    </tr>\n",
       "    <tr>\n",
       "      <td>2751</td>\n",
       "      <td>19678</td>\n",
       "      <td>GRAMADO</td>\n",
       "      <td>4309100</td>\n",
       "      <td>out</td>\n",
       "      <td>POINT (-50.833799 -29.405038)</td>\n",
       "    </tr>\n",
       "    <tr>\n",
       "      <td>2870</td>\n",
       "      <td>73824</td>\n",
       "      <td>INAJÁ</td>\n",
       "      <td>2607000</td>\n",
       "      <td>out</td>\n",
       "      <td>POINT (-37.68083662 -8.69736191)</td>\n",
       "    </tr>\n",
       "    <tr>\n",
       "      <td>2874</td>\n",
       "      <td>38464</td>\n",
       "      <td>INAJÁ</td>\n",
       "      <td>2607000</td>\n",
       "      <td>out</td>\n",
       "      <td>POINT (-37.85125285 -8.67552748)</td>\n",
       "    </tr>\n",
       "  </tbody>\n",
       "</table>\n",
       "</div>"
      ],
      "text/plain": [
       "      id_unico LOCALIDADE_LOCAL_VOTACAO  COD_LOCALIDADE_IBGE city_limits  \\\n",
       "1351     17153              MOREILÂNDIA              2614303         out   \n",
       "1840     67764                     APUÍ              1300144         out   \n",
       "2751     19678                  GRAMADO              4309100         out   \n",
       "2870     73824                    INAJÁ              2607000         out   \n",
       "2874     38464                    INAJÁ              2607000         out   \n",
       "\n",
       "                              geometry  \n",
       "1351  POINT (-39.43196643 -7.56775657)  \n",
       "1840  POINT (-58.15228271 -7.34111016)  \n",
       "2751     POINT (-50.833799 -29.405038)  \n",
       "2870  POINT (-37.68083662 -8.69736191)  \n",
       "2874  POINT (-37.85125285 -8.67552748)  "
      ]
     },
     "execution_count": 66,
     "metadata": {},
     "output_type": "execute_result"
    }
   ],
   "source": [
    "tse_data_geo = data_geo[data_geo['precision'] == 'TSE']\n",
    "out_tse_data_geo = tse_data_geo[tse_data_geo['city_limits'] == 'out']\n",
    "out_tse_data_geo[['id_unico','LOCALIDADE_LOCAL_VOTACAO','COD_LOCALIDADE_IBGE', 'city_limits','geometry']].head()"
   ]
  },
  {
   "cell_type": "code",
   "execution_count": 73,
   "metadata": {},
   "outputs": [
    {
     "data": {
      "image/png": "[encoded data removed]",
      "text/plain": [
       "<Figure size 432x288 with 1 Axes>"
      ]
     },
     "metadata": {
      "needs_background": "light"
     },
     "output_type": "display_data"
    },
    {
     "data": {
      "text/plain": [
       "0.04481029220932828"
      ]
     },
     "execution_count": 73,
     "metadata": {},
     "output_type": "execute_result"
    }
   ],
   "source": [
    "%matplotlib inline\n",
    "from shapely.affinity import translate\n",
    "import matplotlib.pyplot as plt\n",
    "\n",
    "a = city_maps[city_maps['CD_GEOCMU']=='4309100']\n",
    "b = data_geo[data_geo['id_unico']==19678]\n",
    "\n",
    "f, ax = plt.subplots(1)\n",
    "\n",
    "a.plot(ax=ax)\n",
    "b.plot(ax=ax, color='red')\n",
    "\n",
    "plt.show()\n",
    "a['geometry'].values[0].contains(b['geometry'].values[0])\n",
    "a['geometry'].values[0].distance(b['geometry'].values[0]) * 111"
   ]
  }
 ],
 "metadata": {
  "hide_input": false,
  "kernelspec": {
   "display_name": "Python 3",
   "language": "python",
   "name": "python3"
  },
  "language_info": {
   "codemirror_mode": {
    "name": "ipython",
    "version": 3
   },
   "file_extension": ".py",
   "mimetype": "text/x-python",
   "name": "python",
   "nbconvert_exporter": "python",
   "pygments_lexer": "ipython3",
   "version": "3.6.5"
  }
 },
 "nbformat": 4,
 "nbformat_minor": 2
}
