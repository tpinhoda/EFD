{
 "cells": [
  {
   "cell_type": "code",
   "execution_count": 387,
   "metadata": {},
   "outputs": [],
   "source": [
    "import pandas as pd\n",
    "import numpy as np\n",
    "import geopandas as gpd\n",
    "from shapely.geometry import Point\n",
    "from tqdm._tqdm_notebook import tqdm_notebook as tqdm "
   ]
  },
  {
   "cell_type": "markdown",
   "metadata": {},
   "source": [
    "# Reading data"
   ]
  },
  {
   "cell_type": "code",
   "execution_count": 388,
   "metadata": {},
   "outputs": [
    {
     "data": {
      "text/html": [
       "<div>\n",
       "<style scoped>\n",
       "    .dataframe tbody tr th:only-of-type {\n",
       "        vertical-align: middle;\n",
       "    }\n",
       "\n",
       "    .dataframe tbody tr th {\n",
       "        vertical-align: top;\n",
       "    }\n",
       "\n",
       "    .dataframe thead th {\n",
       "        text-align: right;\n",
       "    }\n",
       "</style>\n",
       "<table border=\"1\" class=\"dataframe\">\n",
       "  <thead>\n",
       "    <tr style=\"text-align: right;\">\n",
       "      <th></th>\n",
       "      <th>id_unico</th>\n",
       "      <th>local_unico</th>\n",
       "      <th>lat</th>\n",
       "      <th>lon</th>\n",
       "      <th>fetched_address</th>\n",
       "      <th>precision</th>\n",
       "      <th>LOCAL_VOTACAO</th>\n",
       "      <th>ENDERECO</th>\n",
       "      <th>CEP</th>\n",
       "      <th>COD_LOCALIDADE_IBGE</th>\n",
       "      <th>LOCALIDADE_LOCAL_VOTACAO</th>\n",
       "      <th>SGL_UF</th>\n",
       "      <th>ZONA</th>\n",
       "      <th>BAIRRO_ZONA_SEDE</th>\n",
       "      <th>LATITUDE_ZONA</th>\n",
       "      <th>LONGITUDE_ZONA</th>\n",
       "      <th>NUM_SECAO</th>\n",
       "      <th>NUM_LOCAL</th>\n",
       "      <th>BAIRRO_LOCAL_VOT</th>\n",
       "      <th>COUNTRY</th>\n",
       "    </tr>\n",
       "  </thead>\n",
       "  <tbody>\n",
       "    <tr>\n",
       "      <td>0</td>\n",
       "      <td>14385</td>\n",
       "      <td>CRECHE DONA MARIA DE ARAUJO CARNEIRO, RUA NOSS...</td>\n",
       "      <td>-5.193051</td>\n",
       "      <td>-39.304486</td>\n",
       "      <td>R. Dr. Sebastião Cavalcante, 58 - Monteiro de ...</td>\n",
       "      <td>ROOFTOP</td>\n",
       "      <td>CRECHE DONA MARIA DE ARAUJO CARNEIRO</td>\n",
       "      <td>RUA NOSSA SENHORA DA NATIVIDADE SN</td>\n",
       "      <td>62660000</td>\n",
       "      <td>2313757</td>\n",
       "      <td>UMIRIM</td>\n",
       "      <td>CE</td>\n",
       "      <td>23</td>\n",
       "      <td>CENTRO</td>\n",
       "      <td>NaN</td>\n",
       "      <td>NaN</td>\n",
       "      <td>231</td>\n",
       "      <td>1015</td>\n",
       "      <td>CENTRO-SEDE</td>\n",
       "      <td>BRASIL</td>\n",
       "    </tr>\n",
       "  </tbody>\n",
       "</table>\n",
       "</div>"
      ],
      "text/plain": [
       "   id_unico                                        local_unico       lat  \\\n",
       "0     14385  CRECHE DONA MARIA DE ARAUJO CARNEIRO, RUA NOSS... -5.193051   \n",
       "\n",
       "         lon                                    fetched_address precision  \\\n",
       "0 -39.304486  R. Dr. Sebastião Cavalcante, 58 - Monteiro de ...   ROOFTOP   \n",
       "\n",
       "                          LOCAL_VOTACAO                            ENDERECO  \\\n",
       "0  CRECHE DONA MARIA DE ARAUJO CARNEIRO  RUA NOSSA SENHORA DA NATIVIDADE SN   \n",
       "\n",
       "        CEP  COD_LOCALIDADE_IBGE LOCALIDADE_LOCAL_VOTACAO SGL_UF  ZONA  \\\n",
       "0  62660000              2313757                   UMIRIM     CE    23   \n",
       "\n",
       "  BAIRRO_ZONA_SEDE  LATITUDE_ZONA  LONGITUDE_ZONA  NUM_SECAO  NUM_LOCAL  \\\n",
       "0           CENTRO            NaN             NaN        231       1015   \n",
       "\n",
       "  BAIRRO_LOCAL_VOT COUNTRY  \n",
       "0      CENTRO-SEDE  BRASIL  "
      ]
     },
     "execution_count": 388,
     "metadata": {},
     "output_type": "execute_result"
    }
   ],
   "source": [
    "path_data_geo =  '../../data/interim/Brazil/election_data/2018/polling_places/polling_places.csv'\n",
    "data_geo = pd.read_csv(path_data_geo)\n",
    "data_geo.head(1)"
   ]
  },
  {
   "cell_type": "code",
   "execution_count": 430,
   "metadata": {},
   "outputs": [
    {
     "data": {
      "application/vnd.jupyter.widget-view+json": {
       "model_id": "23b6713ed92b41ef8fed1e6edea182d9",
       "version_major": 2,
       "version_minor": 0
      },
      "text/plain": [
       "HBox(children=(IntProgress(value=0, max=5572), HTML(value='')))"
      ]
     },
     "metadata": {},
     "output_type": "display_data"
    },
    {
     "name": "stdout",
     "output_type": "stream",
     "text": [
      "\n"
     ]
    }
   ],
   "source": [
    "city_maps = gpd.read_file(\"../../data/raw/Brazil/census_2010/digital_mesh/municipios/BRMUE250GC_SIR.shp\",  encoding = 'utf-8')\n",
    "city_maps[\"NM_MUNICIP\"] = city_maps.NM_MUNICIP.astype(str)\n",
    "city_maps[\"CD_GEOCMU\"] = city_maps.CD_GEOCMU.astype(str)"
   ]
  },
  {
   "cell_type": "markdown",
   "metadata": {},
   "source": [
    "# Adding buffer to limits in order to get points in the border"
   ]
  },
  {
   "cell_type": "code",
   "execution_count": null,
   "metadata": {},
   "outputs": [],
   "source": [
    "city_maps['geometry'] = tqdm(city_maps['geometry'].buffer(0.05))"
   ]
  },
  {
   "cell_type": "markdown",
   "metadata": {},
   "source": [
    "# Creating a geopandas dataframe from the locations"
   ]
  },
  {
   "cell_type": "code",
   "execution_count": 431,
   "metadata": {
    "scrolled": true
   },
   "outputs": [
    {
     "data": {
      "text/html": [
       "<div>\n",
       "<style scoped>\n",
       "    .dataframe tbody tr th:only-of-type {\n",
       "        vertical-align: middle;\n",
       "    }\n",
       "\n",
       "    .dataframe tbody tr th {\n",
       "        vertical-align: top;\n",
       "    }\n",
       "\n",
       "    .dataframe thead th {\n",
       "        text-align: right;\n",
       "    }\n",
       "</style>\n",
       "<table border=\"1\" class=\"dataframe\">\n",
       "  <thead>\n",
       "    <tr style=\"text-align: right;\">\n",
       "      <th></th>\n",
       "      <th>id_unico</th>\n",
       "      <th>local_unico</th>\n",
       "      <th>lat</th>\n",
       "      <th>lon</th>\n",
       "      <th>fetched_address</th>\n",
       "      <th>precision</th>\n",
       "      <th>LOCAL_VOTACAO</th>\n",
       "      <th>ENDERECO</th>\n",
       "      <th>CEP</th>\n",
       "      <th>COD_LOCALIDADE_IBGE</th>\n",
       "      <th>...</th>\n",
       "      <th>ZONA</th>\n",
       "      <th>BAIRRO_ZONA_SEDE</th>\n",
       "      <th>LATITUDE_ZONA</th>\n",
       "      <th>LONGITUDE_ZONA</th>\n",
       "      <th>NUM_SECAO</th>\n",
       "      <th>NUM_LOCAL</th>\n",
       "      <th>BAIRRO_LOCAL_VOT</th>\n",
       "      <th>COUNTRY</th>\n",
       "      <th>geometry</th>\n",
       "      <th>city_limits</th>\n",
       "    </tr>\n",
       "  </thead>\n",
       "  <tbody>\n",
       "    <tr>\n",
       "      <td>0</td>\n",
       "      <td>14385</td>\n",
       "      <td>CRECHE DONA MARIA DE ARAUJO CARNEIRO, RUA NOSS...</td>\n",
       "      <td>-5.193051</td>\n",
       "      <td>-39.304486</td>\n",
       "      <td>R. Dr. Sebastião Cavalcante, 58 - Monteiro de ...</td>\n",
       "      <td>ROOFTOP</td>\n",
       "      <td>CRECHE DONA MARIA DE ARAUJO CARNEIRO</td>\n",
       "      <td>RUA NOSSA SENHORA DA NATIVIDADE SN</td>\n",
       "      <td>62660000</td>\n",
       "      <td>2313757</td>\n",
       "      <td>...</td>\n",
       "      <td>23</td>\n",
       "      <td>CENTRO</td>\n",
       "      <td>NaN</td>\n",
       "      <td>NaN</td>\n",
       "      <td>231</td>\n",
       "      <td>1015</td>\n",
       "      <td>CENTRO-SEDE</td>\n",
       "      <td>BRASIL</td>\n",
       "      <td>POINT (-39.3044857 -5.193051000000001)</td>\n",
       "      <td>out</td>\n",
       "    </tr>\n",
       "  </tbody>\n",
       "</table>\n",
       "<p>1 rows × 22 columns</p>\n",
       "</div>"
      ],
      "text/plain": [
       "   id_unico                                        local_unico       lat  \\\n",
       "0     14385  CRECHE DONA MARIA DE ARAUJO CARNEIRO, RUA NOSS... -5.193051   \n",
       "\n",
       "         lon                                    fetched_address precision  \\\n",
       "0 -39.304486  R. Dr. Sebastião Cavalcante, 58 - Monteiro de ...   ROOFTOP   \n",
       "\n",
       "                          LOCAL_VOTACAO                            ENDERECO  \\\n",
       "0  CRECHE DONA MARIA DE ARAUJO CARNEIRO  RUA NOSSA SENHORA DA NATIVIDADE SN   \n",
       "\n",
       "        CEP  COD_LOCALIDADE_IBGE  ... ZONA BAIRRO_ZONA_SEDE  LATITUDE_ZONA  \\\n",
       "0  62660000              2313757  ...   23           CENTRO            NaN   \n",
       "\n",
       "  LONGITUDE_ZONA  NUM_SECAO  NUM_LOCAL  BAIRRO_LOCAL_VOT  COUNTRY  \\\n",
       "0            NaN        231       1015       CENTRO-SEDE   BRASIL   \n",
       "\n",
       "                                 geometry city_limits  \n",
       "0  POINT (-39.3044857 -5.193051000000001)         out  \n",
       "\n",
       "[1 rows x 22 columns]"
      ]
     },
     "execution_count": 431,
     "metadata": {},
     "output_type": "execute_result"
    }
   ],
   "source": [
    "geometry = [ Point( ( row.lon, row.lat ) ) for index, row in data_geo.iterrows() ]\n",
    "data_geo = gpd.GeoDataFrame( data_geo, geometry = geometry )\n",
    "data_geo.crs = {'init': 'EPSG:4326'}\n",
    "data_geo.head(1)"
   ]
  },
  {
   "cell_type": "markdown",
   "metadata": {},
   "source": [
    "# Verifiying if locations are inside city limits"
   ]
  },
  {
   "cell_type": "code",
   "execution_count": 432,
   "metadata": {},
   "outputs": [
    {
     "data": {
      "application/vnd.jupyter.widget-view+json": {
       "model_id": "e6d334fe575c4cc49cd74a76154295b5",
       "version_major": 2,
       "version_minor": 0
      },
      "text/plain": [
       "HBox(children=(IntProgress(value=1, bar_style='info', max=1), HTML(value='')))"
      ]
     },
     "metadata": {},
     "output_type": "display_data"
    },
    {
     "name": "stdout",
     "output_type": "stream",
     "text": [
      "\n"
     ]
    }
   ],
   "source": [
    "to_concat = []\n",
    "for index, location in tqdm(data_geo.iterrows()):\n",
    "    \n",
    "    city = city_maps[city_maps.CD_GEOCMU == str(location['COD_LOCALIDADE_IBGE'])].reset_index(drop=True)\n",
    "    city_polygon = city['geometry'].values[0]\n",
    "    point = location['geometry']\n",
    "    if point.within(city_polygon):\n",
    "        to_concat = to_concat + ['in']\n",
    "    else:\n",
    "        to_concat = to_concat + ['out']\n",
    "        \n",
    "data_geo['city_limits'] = to_concat"
   ]
  },
  {
   "cell_type": "markdown",
   "metadata": {},
   "source": [
    "# Total number of locations in and out of city limits"
   ]
  },
  {
   "cell_type": "code",
   "execution_count": 433,
   "metadata": {},
   "outputs": [
    {
     "data": {
      "text/plain": [
       "in     85475\n",
       "out     9186\n",
       "Name: city_limits, dtype: int64"
      ]
     },
     "execution_count": 433,
     "metadata": {},
     "output_type": "execute_result"
    }
   ],
   "source": [
    "data_geo.city_limits.value_counts()"
   ]
  },
  {
   "cell_type": "markdown",
   "metadata": {},
   "source": [
    "# Total number TSE of locations in and out of city limits"
   ]
  },
  {
   "cell_type": "code",
   "execution_count": 434,
   "metadata": {},
   "outputs": [
    {
     "data": {
      "text/plain": [
       "in     22298\n",
       "out       50\n",
       "Name: city_limits, dtype: int64"
      ]
     },
     "execution_count": 434,
     "metadata": {},
     "output_type": "execute_result"
    }
   ],
   "source": [
    "data_geo[data_geo['precision'] == 'TSE'].city_limits.value_counts()"
   ]
  },
  {
   "cell_type": "markdown",
   "metadata": {},
   "source": [
    "# Total number of ROOFTOP locations in and out of city limits"
   ]
  },
  {
   "cell_type": "code",
   "execution_count": 435,
   "metadata": {},
   "outputs": [
    {
     "data": {
      "text/plain": [
       "in     32301\n",
       "out      720\n",
       "Name: city_limits, dtype: int64"
      ]
     },
     "execution_count": 435,
     "metadata": {},
     "output_type": "execute_result"
    }
   ],
   "source": [
    "data_geo[data_geo['precision'] == 'ROOFTOP'].city_limits.value_counts()"
   ]
  },
  {
   "cell_type": "markdown",
   "metadata": {},
   "source": [
    "# Total number of Range Interpolated locations in and out of city limits"
   ]
  },
  {
   "cell_type": "code",
   "execution_count": 436,
   "metadata": {},
   "outputs": [
    {
     "data": {
      "text/plain": [
       "in     801\n",
       "out     82\n",
       "Name: city_limits, dtype: int64"
      ]
     },
     "execution_count": 436,
     "metadata": {},
     "output_type": "execute_result"
    }
   ],
   "source": [
    "data_geo[data_geo['precision'] == 'RANGE_INTERPOLATED'].city_limits.value_counts()"
   ]
  },
  {
   "cell_type": "markdown",
   "metadata": {},
   "source": [
    "# Total number of GEOMETRIC CENTER locations in and out of city limits"
   ]
  },
  {
   "cell_type": "code",
   "execution_count": 437,
   "metadata": {},
   "outputs": [
    {
     "data": {
      "text/plain": [
       "in     20402\n",
       "out     1181\n",
       "Name: city_limits, dtype: int64"
      ]
     },
     "execution_count": 437,
     "metadata": {},
     "output_type": "execute_result"
    }
   ],
   "source": [
    "data_geo[data_geo['precision'] == 'GEOMETRIC_CENTER'].city_limits.value_counts()"
   ]
  },
  {
   "cell_type": "markdown",
   "metadata": {},
   "source": [
    "# Total number of APPROXIMATED locations in and out of city limits"
   ]
  },
  {
   "cell_type": "code",
   "execution_count": 438,
   "metadata": {},
   "outputs": [
    {
     "data": {
      "text/plain": [
       "in     9673\n",
       "out    6777\n",
       "Name: city_limits, dtype: int64"
      ]
     },
     "execution_count": 438,
     "metadata": {},
     "output_type": "execute_result"
    }
   ],
   "source": [
    "data_geo[data_geo['precision'] == 'APPROXIMATE'].city_limits.value_counts()"
   ]
  },
  {
   "cell_type": "markdown",
   "metadata": {},
   "source": [
    "# Checking TSE out city locations"
   ]
  },
  {
   "cell_type": "code",
   "execution_count": 444,
   "metadata": {},
   "outputs": [
    {
     "data": {
      "text/html": [
       "<div>\n",
       "<style scoped>\n",
       "    .dataframe tbody tr th:only-of-type {\n",
       "        vertical-align: middle;\n",
       "    }\n",
       "\n",
       "    .dataframe tbody tr th {\n",
       "        vertical-align: top;\n",
       "    }\n",
       "\n",
       "    .dataframe thead th {\n",
       "        text-align: right;\n",
       "    }\n",
       "</style>\n",
       "<table border=\"1\" class=\"dataframe\">\n",
       "  <thead>\n",
       "    <tr style=\"text-align: right;\">\n",
       "      <th></th>\n",
       "      <th>id_unico</th>\n",
       "      <th>LOCALIDADE_LOCAL_VOTACAO</th>\n",
       "      <th>COD_LOCALIDADE_IBGE</th>\n",
       "      <th>city_limits</th>\n",
       "      <th>geometry</th>\n",
       "    </tr>\n",
       "  </thead>\n",
       "  <tbody>\n",
       "    <tr>\n",
       "      <td>5715</td>\n",
       "      <td>44223</td>\n",
       "      <td>JOVIÂNIA</td>\n",
       "      <td>5212105</td>\n",
       "      <td>out</td>\n",
       "      <td>POINT (-49.44769893 -17.49894819)</td>\n",
       "    </tr>\n",
       "    <tr>\n",
       "      <td>12484</td>\n",
       "      <td>52990</td>\n",
       "      <td>BOM JESUS</td>\n",
       "      <td>2401701</td>\n",
       "      <td>out</td>\n",
       "      <td>POINT (-35.20936307 -5.7837593)</td>\n",
       "    </tr>\n",
       "    <tr>\n",
       "      <td>13353</td>\n",
       "      <td>81676</td>\n",
       "      <td>PAIM FILHO</td>\n",
       "      <td>4313607</td>\n",
       "      <td>out</td>\n",
       "      <td>POINT (-51.76349310000001 -23.7080073)</td>\n",
       "    </tr>\n",
       "    <tr>\n",
       "      <td>15260</td>\n",
       "      <td>61198</td>\n",
       "      <td>BENJAMIN CONSTANT</td>\n",
       "      <td>1300607</td>\n",
       "      <td>out</td>\n",
       "      <td>POINT (-69.43897681999999 -4.24987485)</td>\n",
       "    </tr>\n",
       "    <tr>\n",
       "      <td>20289</td>\n",
       "      <td>15336</td>\n",
       "      <td>CARACARAÍ</td>\n",
       "      <td>1400209</td>\n",
       "      <td>out</td>\n",
       "      <td>POINT (-60.6646203 2.8298891)</td>\n",
       "    </tr>\n",
       "  </tbody>\n",
       "</table>\n",
       "</div>"
      ],
      "text/plain": [
       "       id_unico LOCALIDADE_LOCAL_VOTACAO  COD_LOCALIDADE_IBGE city_limits  \\\n",
       "5715      44223                 JOVIÂNIA              5212105         out   \n",
       "12484     52990                BOM JESUS              2401701         out   \n",
       "13353     81676               PAIM FILHO              4313607         out   \n",
       "15260     61198        BENJAMIN CONSTANT              1300607         out   \n",
       "20289     15336                CARACARAÍ              1400209         out   \n",
       "\n",
       "                                     geometry  \n",
       "5715        POINT (-49.44769893 -17.49894819)  \n",
       "12484         POINT (-35.20936307 -5.7837593)  \n",
       "13353  POINT (-51.76349310000001 -23.7080073)  \n",
       "15260  POINT (-69.43897681999999 -4.24987485)  \n",
       "20289           POINT (-60.6646203 2.8298891)  "
      ]
     },
     "execution_count": 444,
     "metadata": {},
     "output_type": "execute_result"
    }
   ],
   "source": [
    "tse_data_geo = data_geo[data_geo['precision'] == 'TSE']\n",
    "out_tse_data_geo = tse_data_geo[tse_data_geo['city_limits'] == 'out']\n",
    "out_tse_data_geo[['id_unico','LOCALIDADE_LOCAL_VOTACAO','COD_LOCALIDADE_IBGE', 'city_limits','geometry']].head()"
   ]
  },
  {
   "cell_type": "code",
   "execution_count": 443,
   "metadata": {},
   "outputs": [
    {
     "data": {
      "image/png": "[encoded data removed]",
      "text/plain": [
       "<Figure size 432x288 with 1 Axes>"
      ]
     },
     "metadata": {
      "needs_background": "light"
     },
     "output_type": "display_data"
    },
    {
     "data": {
      "text/plain": [
       "False"
      ]
     },
     "execution_count": 443,
     "metadata": {},
     "output_type": "execute_result"
    }
   ],
   "source": [
    "%matplotlib inline\n",
    "from shapely.affinity import translate\n",
    "import matplotlib.pyplot as plt\n",
    "\n",
    "a = city_maps[city_maps['CD_GEOCMU']=='4314803']\n",
    "b = data_geo[data_geo['id_unico']==16871]\n",
    "\n",
    "f, ax = plt.subplots(1)\n",
    "\n",
    "a.plot(ax=ax)\n",
    "b.plot(ax=ax, color='red')\n",
    "\n",
    "plt.show()\n",
    "a['geometry'].values[0].contains(b['geometry'].values[0])"
   ]
  }
 ],
 "metadata": {
  "kernelspec": {
   "display_name": "Python 3",
   "language": "python",
   "name": "python3"
  },
  "language_info": {
   "codemirror_mode": {
    "name": "ipython",
    "version": 3
   },
   "file_extension": ".py",
   "mimetype": "text/x-python",
   "name": "python",
   "nbconvert_exporter": "python",
   "pygments_lexer": "ipython3",
   "version": "3.6.5"
  }
 },
 "nbformat": 4,
 "nbformat_minor": 2
}
