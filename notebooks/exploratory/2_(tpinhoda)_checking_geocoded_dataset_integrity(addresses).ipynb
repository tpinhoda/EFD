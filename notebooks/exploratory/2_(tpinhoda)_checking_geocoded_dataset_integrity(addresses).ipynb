{
 "cells": [
  {
   "cell_type": "code",
   "execution_count": 68,
   "metadata": {},
   "outputs": [],
   "source": [
    "import pandas as pd\n",
    "import numpy as np\n",
    "import Levenshtein\n",
    "import geopandas as geopd\n",
    "import seaborn as sns\n",
    "from os import listdir\n",
    "from os.path import isfile, join, splitext"
   ]
  },
  {
   "cell_type": "markdown",
   "metadata": {},
   "source": [
    "# Reading geocoded data"
   ]
  },
  {
   "cell_type": "code",
   "execution_count": 69,
   "metadata": {},
   "outputs": [
    {
     "data": {
      "text/html": [
       "<div>\n",
       "<style scoped>\n",
       "    .dataframe tbody tr th:only-of-type {\n",
       "        vertical-align: middle;\n",
       "    }\n",
       "\n",
       "    .dataframe tbody tr th {\n",
       "        vertical-align: top;\n",
       "    }\n",
       "\n",
       "    .dataframe thead th {\n",
       "        text-align: right;\n",
       "    }\n",
       "</style>\n",
       "<table border=\"1\" class=\"dataframe\">\n",
       "  <thead>\n",
       "    <tr style=\"text-align: right;\">\n",
       "      <th></th>\n",
       "      <th>id_unico</th>\n",
       "      <th>local_unico</th>\n",
       "      <th>lat</th>\n",
       "      <th>lon</th>\n",
       "      <th>fetched_address</th>\n",
       "      <th>precision</th>\n",
       "      <th>LOCAL_VOTACAO</th>\n",
       "      <th>ENDERECO</th>\n",
       "      <th>CEP</th>\n",
       "      <th>COD_LOCALIDADE_IBGE</th>\n",
       "      <th>LOCALIDADE_LOCAL_VOTACAO</th>\n",
       "      <th>SGL_UF</th>\n",
       "      <th>ZONA</th>\n",
       "      <th>BAIRRO_ZONA_SEDE</th>\n",
       "      <th>LATITUDE_ZONA</th>\n",
       "      <th>LONGITUDE_ZONA</th>\n",
       "      <th>NUM_SECAO</th>\n",
       "      <th>NUM_LOCAL</th>\n",
       "      <th>BAIRRO_LOCAL_VOT</th>\n",
       "      <th>COUNTRY</th>\n",
       "    </tr>\n",
       "  </thead>\n",
       "  <tbody>\n",
       "    <tr>\n",
       "      <td>0</td>\n",
       "      <td>14385</td>\n",
       "      <td>CRECHE DONA MARIA DE ARAUJO CARNEIRO, RUA NOSS...</td>\n",
       "      <td>-5.193051</td>\n",
       "      <td>-39.304486</td>\n",
       "      <td>R. Dr. Sebastião Cavalcante, 58 - Monteiro de ...</td>\n",
       "      <td>ROOFTOP</td>\n",
       "      <td>CRECHE DONA MARIA DE ARAUJO CARNEIRO</td>\n",
       "      <td>RUA NOSSA SENHORA DA NATIVIDADE SN</td>\n",
       "      <td>62660000</td>\n",
       "      <td>2313757</td>\n",
       "      <td>UMIRIM</td>\n",
       "      <td>CE</td>\n",
       "      <td>23</td>\n",
       "      <td>CENTRO</td>\n",
       "      <td>NaN</td>\n",
       "      <td>NaN</td>\n",
       "      <td>231</td>\n",
       "      <td>1015</td>\n",
       "      <td>CENTRO-SEDE</td>\n",
       "      <td>BRASIL</td>\n",
       "    </tr>\n",
       "  </tbody>\n",
       "</table>\n",
       "</div>"
      ],
      "text/plain": [
       "   id_unico                                        local_unico       lat  \\\n",
       "0     14385  CRECHE DONA MARIA DE ARAUJO CARNEIRO, RUA NOSS... -5.193051   \n",
       "\n",
       "         lon                                    fetched_address precision  \\\n",
       "0 -39.304486  R. Dr. Sebastião Cavalcante, 58 - Monteiro de ...   ROOFTOP   \n",
       "\n",
       "                          LOCAL_VOTACAO                            ENDERECO  \\\n",
       "0  CRECHE DONA MARIA DE ARAUJO CARNEIRO  RUA NOSSA SENHORA DA NATIVIDADE SN   \n",
       "\n",
       "        CEP  COD_LOCALIDADE_IBGE LOCALIDADE_LOCAL_VOTACAO SGL_UF  ZONA  \\\n",
       "0  62660000              2313757                   UMIRIM     CE    23   \n",
       "\n",
       "  BAIRRO_ZONA_SEDE  LATITUDE_ZONA  LONGITUDE_ZONA  NUM_SECAO  NUM_LOCAL  \\\n",
       "0           CENTRO            NaN             NaN        231       1015   \n",
       "\n",
       "  BAIRRO_LOCAL_VOT COUNTRY  \n",
       "0      CENTRO-SEDE  BRASIL  "
      ]
     },
     "execution_count": 69,
     "metadata": {},
     "output_type": "execute_result"
    }
   ],
   "source": [
    "path_data_geo =  '../../data/interim/Brazil/election_data/2018/polling_places/polling_places.csv'\n",
    "data_geo = pd.read_csv(path_data_geo)\n",
    "data_geo.head(1)"
   ]
  },
  {
   "cell_type": "markdown",
   "metadata": {},
   "source": [
    "# Creating query address to compare against fetched address"
   ]
  },
  {
   "cell_type": "code",
   "execution_count": 72,
   "metadata": {},
   "outputs": [],
   "source": [
    "data_geo['query_address'] = data_geo['ENDERECO'] +', '+ data_geo['BAIRRO_LOCAL_VOT'] + ' - ' +  data_geo['LOCALIDADE_LOCAL_VOTACAO'] + ' - ' + data_geo['SGL_UF'] + ', ' + data_geo['CEP'].astype('str') + ', Brasil'"
   ]
  },
  {
   "cell_type": "markdown",
   "metadata": {},
   "source": [
    "# Calculating levenshtein distance between query address and fetched address"
   ]
  },
  {
   "cell_type": "code",
   "execution_count": 107,
   "metadata": {},
   "outputs": [],
   "source": [
    "data_geo['lev_dist'] = data_geo.apply(lambda x: Levenshtein.ratio(x['query_address'].lower(),x['fetched_address'].lower()), axis=1)"
   ]
  },
  {
   "cell_type": "markdown",
   "metadata": {},
   "source": [
    "# Verifying locations with high similarity between query and fetched addresses"
   ]
  },
  {
   "cell_type": "code",
   "execution_count": 94,
   "metadata": {},
   "outputs": [
    {
     "name": "stdout",
     "output_type": "stream",
     "text": [
      "Similaridade maior que 0.8: 28401\n"
     ]
    },
    {
     "data": {
      "text/plain": [
       "<matplotlib.axes._subplots.AxesSubplot at 0x1e37394c668>"
      ]
     },
     "execution_count": 94,
     "metadata": {},
     "output_type": "execute_result"
    },
    {
     "data": {
      "image/png": "[encoded data removed]",
      "text/plain": [
       "<Figure size 432x288 with 1 Axes>"
      ]
     },
     "metadata": {
      "needs_background": "light"
     },
     "output_type": "display_data"
    }
   ],
   "source": [
    "print('Similarity greater than 0.8:',sum(data_geo['lev_dist'] >= .8 ))\n",
    "sns.distplot(data_geo['lev_dist'], bins = 10, kde=False)"
   ]
  },
  {
   "cell_type": "markdown",
   "metadata": {},
   "source": [
    "# Verifying high similarity addresses considering only TSE precision\n",
    "### Note: Locations with TSE precision were note queried, thus they do not present a fetched address attribute, which explains the low similarity results."
   ]
  },
  {
   "cell_type": "code",
   "execution_count": 98,
   "metadata": {},
   "outputs": [
    {
     "name": "stdout",
     "output_type": "stream",
     "text": [
      "Lenght: 22348\n"
     ]
    },
    {
     "data": {
      "text/plain": [
       "<matplotlib.axes._subplots.AxesSubplot at 0x1e37a47e7b8>"
      ]
     },
     "execution_count": 98,
     "metadata": {},
     "output_type": "execute_result"
    },
    {
     "data": {
      "image/png": "[encoded data removed]",
      "text/plain": [
       "<Figure size 432x288 with 1 Axes>"
      ]
     },
     "metadata": {
      "needs_background": "light"
     },
     "output_type": "display_data"
    }
   ],
   "source": [
    "TSE_data_geo = data_geo[data_geo['precision'] == 'TSE']\n",
    "print('Lenght:',len(TSE_data_geo))\n",
    "\n",
    "sns.distplot(TSE_data_geo['lev_dist'], bins = 10, kde=False)"
   ]
  },
  {
   "cell_type": "markdown",
   "metadata": {},
   "source": [
    "# Verifying high similarity addresses considering only ROOFTOP precision"
   ]
  },
  {
   "cell_type": "code",
   "execution_count": 99,
   "metadata": {},
   "outputs": [
    {
     "name": "stdout",
     "output_type": "stream",
     "text": [
      "Similarity greater than 0.8: 21451\n"
     ]
    },
    {
     "data": {
      "text/plain": [
       "<matplotlib.axes._subplots.AxesSubplot at 0x1e37a487f98>"
      ]
     },
     "execution_count": 99,
     "metadata": {},
     "output_type": "execute_result"
    },
    {
     "data": {
      "image/png": "[encoded data removed]",
      "text/plain": [
       "<Figure size 432x288 with 1 Axes>"
      ]
     },
     "metadata": {
      "needs_background": "light"
     },
     "output_type": "display_data"
    }
   ],
   "source": [
    "rooftop_data_geo = data_geo[data_geo['precision'] == 'ROOFTOP']\n",
    "print('Similarity greater than 0.8:',sum(rooftop_data_geo['lev_dist'] >= .8 ))\n",
    "\n",
    "sns.distplot(rooftop_data_geo['lev_dist'], bins = 10, kde=False)"
   ]
  },
  {
   "cell_type": "markdown",
   "metadata": {},
   "source": [
    "# Verifying high similiarty addresses considering only Range Interpolated precision"
   ]
  },
  {
   "cell_type": "code",
   "execution_count": 100,
   "metadata": {},
   "outputs": [
    {
     "name": "stdout",
     "output_type": "stream",
     "text": [
      "Similarity greater than 0.8: 536\n"
     ]
    },
    {
     "data": {
      "text/plain": [
       "<matplotlib.axes._subplots.AxesSubplot at 0x1e37a983390>"
      ]
     },
     "execution_count": 100,
     "metadata": {},
     "output_type": "execute_result"
    },
    {
     "data": {
      "image/png": "[encoded data removed]",
      "text/plain": [
       "<Figure size 432x288 with 1 Axes>"
      ]
     },
     "metadata": {
      "needs_background": "light"
     },
     "output_type": "display_data"
    }
   ],
   "source": [
    "interpolated_data_geo = data_geo[data_geo['precision'] == 'RANGE_INTERPOLATED']\n",
    "print('Similarity greater than 0.8:',sum(interpolated_data_geo['lev_dist'] >= .8 ))\n",
    "\n",
    "sns.distplot(interpolated_data_geo['lev_dist'], bins = 10, kde=False)"
   ]
  },
  {
   "cell_type": "markdown",
   "metadata": {},
   "source": [
    "# Verifying high similarity addresses considering only Geometric Center precision"
   ]
  },
  {
   "cell_type": "code",
   "execution_count": 101,
   "metadata": {},
   "outputs": [
    {
     "name": "stdout",
     "output_type": "stream",
     "text": [
      "Similarity greater than 0.8: 5975\n"
     ]
    },
    {
     "data": {
      "text/plain": [
       "<matplotlib.axes._subplots.AxesSubplot at 0x1e37a8eb748>"
      ]
     },
     "execution_count": 101,
     "metadata": {},
     "output_type": "execute_result"
    },
    {
     "data": {
      "image/png": "[encoded data removed]",
      "text/plain": [
       "<Figure size 432x288 with 1 Axes>"
      ]
     },
     "metadata": {
      "needs_background": "light"
     },
     "output_type": "display_data"
    }
   ],
   "source": [
    "geometric_data_geo = data_geo[data_geo['precision'] == 'GEOMETRIC_CENTER']\n",
    "print('Similarity greater than 0.8:',sum(geometric_data_geo['lev_dist'] >= .8 ))\n",
    "\n",
    "sns.distplot(geometric_data_geo['lev_dist'], bins = 10, kde=False)"
   ]
  },
  {
   "cell_type": "markdown",
   "metadata": {},
   "source": [
    "# Verifying high similarity addresses considering only Approximate precision"
   ]
  },
  {
   "cell_type": "code",
   "execution_count": 102,
   "metadata": {},
   "outputs": [
    {
     "name": "stdout",
     "output_type": "stream",
     "text": [
      "Similarity greater than 0.8: 439\n"
     ]
    },
    {
     "data": {
      "text/plain": [
       "<matplotlib.axes._subplots.AxesSubplot at 0x1e37a9cbbe0>"
      ]
     },
     "execution_count": 102,
     "metadata": {},
     "output_type": "execute_result"
    },
    {
     "data": {
      "image/png": "[encoded data removed]",
      "text/plain": [
       "<Figure size 432x288 with 1 Axes>"
      ]
     },
     "metadata": {
      "needs_background": "light"
     },
     "output_type": "display_data"
    }
   ],
   "source": [
    "approximate_data_geo = data_geo[data_geo['precision'] == 'APPROXIMATE']\n",
    "print('Similarity greater than 0.8:',sum(approximate_data_geo['lev_dist'] >= .8 ))\n",
    "\n",
    "sns.distplot(geometric_data_geo['lev_dist'], bins = 10, kde=False)"
   ]
  },
  {
   "cell_type": "markdown",
   "metadata": {},
   "source": [
    "# Number of locations which were not possible to geocode"
   ]
  },
  {
   "cell_type": "code",
   "execution_count": 108,
   "metadata": {},
   "outputs": [
    {
     "name": "stdout",
     "output_type": "stream",
     "text": [
      "Lenght: 376\n"
     ]
    }
   ],
   "source": [
    "no_value_data_geo = data_geo[data_geo['precision'] == 'NO_VALUE']\n",
    "print('Lenght:',len(no_value_data_geo))"
   ]
  },
  {
   "cell_type": "markdown",
   "metadata": {},
   "source": [
    "# Number of locations that cause error in the algorithm"
   ]
  },
  {
   "cell_type": "code",
   "execution_count": 105,
   "metadata": {},
   "outputs": [
    {
     "name": "stdout",
     "output_type": "stream",
     "text": [
      "Lenght: 0\n"
     ]
    }
   ],
   "source": [
    "error_data_geo = data_geo[data_geo['precision'] == 'ERROR']\n",
    "print('Lenght:',len(error_data_geo))"
   ]
  },
  {
   "cell_type": "markdown",
   "metadata": {},
   "source": [
    "# Total Number of locations with high similarity between query and fetched addresses"
   ]
  },
  {
   "cell_type": "code",
   "execution_count": 106,
   "metadata": {},
   "outputs": [
    {
     "name": "stdout",
     "output_type": "stream",
     "text": [
      "Number of locations with good precision: 50749\n"
     ]
    }
   ],
   "source": [
    "total_good_precision = sum(data_geo['lev_dist'] >= .8 ) + len(TSE_data_geo)\n",
    "print('Number of locations with good precision:', total_good_precision)"
   ]
  },
  {
   "cell_type": "code",
   "execution_count": 10,
   "metadata": {},
   "outputs": [],
   "source": [
    "data_geo['lat_4f'] = data_geo['lat'].map(lambda x: '{0:.4f}'.format(x))\n",
    "data_geo['lon_4f'] = data_geo['lon'].map(lambda x: '{0:.4f}'.format(x))\n",
    "data_geo['lat_lon'] = data_geo['lat_4f'].astype('str') +','+  data_geo['lon_4f'].astype('str')  "
   ]
  },
  {
   "cell_type": "code",
   "execution_count": 45,
   "metadata": {},
   "outputs": [
    {
     "data": {
      "text/html": [
       "<div>\n",
       "<style scoped>\n",
       "    .dataframe tbody tr th:only-of-type {\n",
       "        vertical-align: middle;\n",
       "    }\n",
       "\n",
       "    .dataframe tbody tr th {\n",
       "        vertical-align: top;\n",
       "    }\n",
       "\n",
       "    .dataframe thead th {\n",
       "        text-align: right;\n",
       "    }\n",
       "</style>\n",
       "<table border=\"1\" class=\"dataframe\">\n",
       "  <thead>\n",
       "    <tr style=\"text-align: right;\">\n",
       "      <th></th>\n",
       "      <th>id_unico</th>\n",
       "      <th>local_unico</th>\n",
       "      <th>lat</th>\n",
       "      <th>lon</th>\n",
       "      <th>fetched_address</th>\n",
       "      <th>precision</th>\n",
       "      <th>LOCAL_VOTACAO</th>\n",
       "      <th>ENDERECO</th>\n",
       "      <th>CEP</th>\n",
       "      <th>COD_LOCALIDADE_IBGE</th>\n",
       "      <th>...</th>\n",
       "      <th>BAIRRO_ZONA_SEDE</th>\n",
       "      <th>LATITUDE_ZONA</th>\n",
       "      <th>LONGITUDE_ZONA</th>\n",
       "      <th>NUM_SECAO</th>\n",
       "      <th>NUM_LOCAL</th>\n",
       "      <th>BAIRRO_LOCAL_VOT</th>\n",
       "      <th>COUNTRY</th>\n",
       "      <th>lat_4f</th>\n",
       "      <th>lon_4f</th>\n",
       "      <th>lat_lon</th>\n",
       "    </tr>\n",
       "  </thead>\n",
       "  <tbody>\n",
       "    <tr>\n",
       "      <td>0</td>\n",
       "      <td>14385</td>\n",
       "      <td>CRECHE DONA MARIA DE ARAUJO CARNEIRO, RUA NOSS...</td>\n",
       "      <td>-5.193051</td>\n",
       "      <td>-39.304486</td>\n",
       "      <td>R. Dr. Sebastião Cavalcante, 58 - Monteiro de ...</td>\n",
       "      <td>ROOFTOP</td>\n",
       "      <td>CRECHE DONA MARIA DE ARAUJO CARNEIRO</td>\n",
       "      <td>RUA NOSSA SENHORA DA NATIVIDADE SN</td>\n",
       "      <td>62660000</td>\n",
       "      <td>2313757</td>\n",
       "      <td>...</td>\n",
       "      <td>CENTRO</td>\n",
       "      <td>NaN</td>\n",
       "      <td>NaN</td>\n",
       "      <td>231</td>\n",
       "      <td>1015</td>\n",
       "      <td>CENTRO-SEDE</td>\n",
       "      <td>BRASIL</td>\n",
       "      <td>-5.1931</td>\n",
       "      <td>-39.3045</td>\n",
       "      <td>-5.1931,-39.3045</td>\n",
       "    </tr>\n",
       "    <tr>\n",
       "      <td>43</td>\n",
       "      <td>12040</td>\n",
       "      <td>COLÉGIO ESTADUAL PROFESSOR RENATO AZEVEDO, AV....</td>\n",
       "      <td>-22.893081</td>\n",
       "      <td>-42.045681</td>\n",
       "      <td>Av. América Central, Nº 0 - São Cristóvão, Cab...</td>\n",
       "      <td>ROOFTOP</td>\n",
       "      <td>COLÉGIO ESTADUAL PROFESSOR RENATO AZEVEDO</td>\n",
       "      <td>AV. AMERICA CENTRAL S/N</td>\n",
       "      <td>28909580</td>\n",
       "      <td>3300704</td>\n",
       "      <td>...</td>\n",
       "      <td>CENTRO</td>\n",
       "      <td>NaN</td>\n",
       "      <td>NaN</td>\n",
       "      <td>431</td>\n",
       "      <td>2100</td>\n",
       "      <td>SÃO CRISTÓVÃO</td>\n",
       "      <td>BRASIL</td>\n",
       "      <td>-22.8931</td>\n",
       "      <td>-42.0457</td>\n",
       "      <td>-22.8931,-42.0457</td>\n",
       "    </tr>\n",
       "    <tr>\n",
       "      <td>101</td>\n",
       "      <td>44831</td>\n",
       "      <td>ESCOLA ESTADUAL DE PORTO AGRARIO, PRACA SAO PE...</td>\n",
       "      <td>-19.004377</td>\n",
       "      <td>-41.537856</td>\n",
       "      <td>R. Cel. Farias, 218 - Centro, Galiléia - MG, 3...</td>\n",
       "      <td>ROOFTOP</td>\n",
       "      <td>ESCOLA ESTADUAL DE PORTO AGRARIO</td>\n",
       "      <td>PRACA SAO PEDRO</td>\n",
       "      <td>39467000</td>\n",
       "      <td>3136959</td>\n",
       "      <td>...</td>\n",
       "      <td>CENTRO</td>\n",
       "      <td>NaN</td>\n",
       "      <td>NaN</td>\n",
       "      <td>67</td>\n",
       "      <td>1040</td>\n",
       "      <td>CENTRO</td>\n",
       "      <td>BRASIL</td>\n",
       "      <td>-19.0044</td>\n",
       "      <td>-41.5379</td>\n",
       "      <td>-19.0044,-41.5379</td>\n",
       "    </tr>\n",
       "    <tr>\n",
       "      <td>140</td>\n",
       "      <td>64118</td>\n",
       "      <td>ESCOLA MUNICIPAL MACHADO DE ASSIS, VILA CANADÁ...</td>\n",
       "      <td>-5.521833</td>\n",
       "      <td>-47.456081</td>\n",
       "      <td>Rua Euclides Cunha, 200-302 - Parque Santa Luc...</td>\n",
       "      <td>ROOFTOP</td>\n",
       "      <td>ESCOLA MUNICIPAL MACHADO DE ASSIS</td>\n",
       "      <td>VILA CANADÁ - AGUA LIMA</td>\n",
       "      <td>65395000</td>\n",
       "      <td>2102036</td>\n",
       "      <td>...</td>\n",
       "      <td>CENTRO - ZONA URBANA</td>\n",
       "      <td>NaN</td>\n",
       "      <td>NaN</td>\n",
       "      <td>199</td>\n",
       "      <td>1368</td>\n",
       "      <td>VILA CANADÁ - ZONA RURAL</td>\n",
       "      <td>BRASIL</td>\n",
       "      <td>-5.5218</td>\n",
       "      <td>-47.4561</td>\n",
       "      <td>-5.5218,-47.4561</td>\n",
       "    </tr>\n",
       "    <tr>\n",
       "      <td>147</td>\n",
       "      <td>11187</td>\n",
       "      <td>COLÉGIO ESTADUAL DE SERROLÂNDIA, PRAÇA DR. ANT...</td>\n",
       "      <td>-11.413721</td>\n",
       "      <td>-40.301799</td>\n",
       "      <td>Tv. 1A G. Moreira, 1 - Centro, Serrolândia - B...</td>\n",
       "      <td>ROOFTOP</td>\n",
       "      <td>COLÉGIO ESTADUAL DE SERROLÂNDIA</td>\n",
       "      <td>PRAÇA DR. ANTÔNIO CARLOS MAGALHÃES, S/N</td>\n",
       "      <td>44710000</td>\n",
       "      <td>2930600</td>\n",
       "      <td>...</td>\n",
       "      <td>CENTRO</td>\n",
       "      <td>NaN</td>\n",
       "      <td>NaN</td>\n",
       "      <td>337</td>\n",
       "      <td>1015</td>\n",
       "      <td>CENTRO</td>\n",
       "      <td>BRASIL</td>\n",
       "      <td>-11.4137</td>\n",
       "      <td>-40.3018</td>\n",
       "      <td>-11.4137,-40.3018</td>\n",
       "    </tr>\n",
       "  </tbody>\n",
       "</table>\n",
       "<p>5 rows × 23 columns</p>\n",
       "</div>"
      ],
      "text/plain": [
       "     id_unico                                        local_unico        lat  \\\n",
       "0       14385  CRECHE DONA MARIA DE ARAUJO CARNEIRO, RUA NOSS...  -5.193051   \n",
       "43      12040  COLÉGIO ESTADUAL PROFESSOR RENATO AZEVEDO, AV.... -22.893081   \n",
       "101     44831  ESCOLA ESTADUAL DE PORTO AGRARIO, PRACA SAO PE... -19.004377   \n",
       "140     64118  ESCOLA MUNICIPAL MACHADO DE ASSIS, VILA CANADÁ...  -5.521833   \n",
       "147     11187  COLÉGIO ESTADUAL DE SERROLÂNDIA, PRAÇA DR. ANT... -11.413721   \n",
       "\n",
       "           lon                                    fetched_address precision  \\\n",
       "0   -39.304486  R. Dr. Sebastião Cavalcante, 58 - Monteiro de ...   ROOFTOP   \n",
       "43  -42.045681  Av. América Central, Nº 0 - São Cristóvão, Cab...   ROOFTOP   \n",
       "101 -41.537856  R. Cel. Farias, 218 - Centro, Galiléia - MG, 3...   ROOFTOP   \n",
       "140 -47.456081  Rua Euclides Cunha, 200-302 - Parque Santa Luc...   ROOFTOP   \n",
       "147 -40.301799  Tv. 1A G. Moreira, 1 - Centro, Serrolândia - B...   ROOFTOP   \n",
       "\n",
       "                                 LOCAL_VOTACAO  \\\n",
       "0         CRECHE DONA MARIA DE ARAUJO CARNEIRO   \n",
       "43   COLÉGIO ESTADUAL PROFESSOR RENATO AZEVEDO   \n",
       "101           ESCOLA ESTADUAL DE PORTO AGRARIO   \n",
       "140          ESCOLA MUNICIPAL MACHADO DE ASSIS   \n",
       "147            COLÉGIO ESTADUAL DE SERROLÂNDIA   \n",
       "\n",
       "                                    ENDERECO       CEP  COD_LOCALIDADE_IBGE  \\\n",
       "0         RUA NOSSA SENHORA DA NATIVIDADE SN  62660000              2313757   \n",
       "43                   AV. AMERICA CENTRAL S/N  28909580              3300704   \n",
       "101                    PRACA SAO PEDRO        39467000              3136959   \n",
       "140                  VILA CANADÁ - AGUA LIMA  65395000              2102036   \n",
       "147  PRAÇA DR. ANTÔNIO CARLOS MAGALHÃES, S/N  44710000              2930600   \n",
       "\n",
       "     ...      BAIRRO_ZONA_SEDE LATITUDE_ZONA  LONGITUDE_ZONA NUM_SECAO  \\\n",
       "0    ...                CENTRO           NaN             NaN       231   \n",
       "43   ...                CENTRO           NaN             NaN       431   \n",
       "101  ...                CENTRO           NaN             NaN        67   \n",
       "140  ...  CENTRO - ZONA URBANA           NaN             NaN       199   \n",
       "147  ...                CENTRO           NaN             NaN       337   \n",
       "\n",
       "     NUM_LOCAL          BAIRRO_LOCAL_VOT  COUNTRY    lat_4f    lon_4f  \\\n",
       "0         1015               CENTRO-SEDE   BRASIL   -5.1931  -39.3045   \n",
       "43        2100             SÃO CRISTÓVÃO   BRASIL  -22.8931  -42.0457   \n",
       "101       1040                    CENTRO   BRASIL  -19.0044  -41.5379   \n",
       "140       1368  VILA CANADÁ - ZONA RURAL   BRASIL   -5.5218  -47.4561   \n",
       "147       1015                    CENTRO   BRASIL  -11.4137  -40.3018   \n",
       "\n",
       "               lat_lon  \n",
       "0     -5.1931,-39.3045  \n",
       "43   -22.8931,-42.0457  \n",
       "101  -19.0044,-41.5379  \n",
       "140   -5.5218,-47.4561  \n",
       "147  -11.4137,-40.3018  \n",
       "\n",
       "[5 rows x 23 columns]"
      ]
     },
     "execution_count": 45,
     "metadata": {},
     "output_type": "execute_result"
    }
   ],
   "source": [
    "duplicated = data_geo.duplicated(subset='lat_lon', keep=False)\n",
    "duplicated_data = data_geo[duplicated]\n",
    "duplicated_data[duplicated_data['precision'] == 'ROOFTOP'].head(5)"
   ]
  }
 ],
 "metadata": {
  "kernelspec": {
   "display_name": "Python 3",
   "language": "python",
   "name": "python3"
  },
  "language_info": {
   "codemirror_mode": {
    "name": "ipython",
    "version": 3
   },
   "file_extension": ".py",
   "mimetype": "text/x-python",
   "name": "python",
   "nbconvert_exporter": "python",
   "pygments_lexer": "ipython3",
   "version": "3.6.5"
  }
 },
 "nbformat": 4,
 "nbformat_minor": 2
}
