{
 "cells": [
  {
   "cell_type": "code",
   "execution_count": 1,
   "metadata": {
    "ExecuteTime": {
     "end_time": "2020-05-14T17:49:35.387675Z",
     "start_time": "2020-05-14T17:49:34.270235Z"
    },
    "hide_input": false
   },
   "outputs": [],
   "source": [
    "import pandas as pd\n",
    "import numpy as np\n",
    "import seaborn as sns\n",
    "import ipywidgets as widgets\n",
    "\n",
    "from matplotlib import pyplot as plt\n",
    "from os import listdir, path, curdir\n",
    "from os.path import isfile, join\n",
    "from pathlib import Path\n",
    "from tqdm import tqdm\n",
    "from ipyfilechooser import FileChooser\n",
    "\n",
    "import warnings\n",
    "warnings.filterwarnings('ignore')"
   ]
  },
  {
   "cell_type": "code",
   "execution_count": 48,
   "metadata": {
    "ExecuteTime": {
     "end_time": "2020-05-14T18:49:28.509057Z",
     "start_time": "2020-05-14T18:49:28.498082Z"
    },
    "hide_input": false
   },
   "outputs": [],
   "source": [
    "def generate_general_statistics(state, data, statistics):\n",
    "    statistics['state'].append(state)\n",
    "    statistics['electorate'].append(data['QT_APTOS'].sum())\n",
    "    statistics['mean_electorate'].append(data.groupby('id').agg('sum')['QT_APTOS'].mean())\n",
    "    statistics['std_electorate'].append(data['QT_APTOS'].std())\n",
    "    statistics['turnout'].append(data['QT_COMPARECIMENTO'].sum())\n",
    "    statistics['mean_turnout'].append(data.groupby('id').agg('sum')['QT_COMPARECIMENTO'].mean())\n",
    "    statistics['std_turnout'].append(data['QT_COMPARECIMENTO'].std())\n",
    "    statistics['polling_places'].append(len(data.groupby('id')))\n",
    "    return statistics\n",
    "\n",
    "\n",
    "def generate_precision_statistics(data, statistics):\n",
    "    local_data = data[['precision', 'id']].groupby('id').first()\n",
    "    n_precisions = local_data['precision'].value_counts()\n",
    "\n",
    "    try:\n",
    "        statistics['tse'].append(n_precisions['TSE'])\n",
    "    except:\n",
    "        statistics['tse'].append(0)\n",
    "\n",
    "    try:\n",
    "        statistics['rooftop'].append(n_precisions['ROOFTOP'])\n",
    "    except:\n",
    "        statistics['rooftop'].append(0)\n",
    "\n",
    "    try:\n",
    "        statistics['geometric_center'].append(n_precisions['GEOMETRIC_CENTER'])\n",
    "    except:\n",
    "        statistics['geometric_center'].append(0)\n",
    "\n",
    "    try:\n",
    "        statistics['range_interpolated'].append(\n",
    "            n_precisions['RANGE_INTERPOLATED'])\n",
    "    except:\n",
    "        statistics['range_interpolated'].append(0)\n",
    "\n",
    "    try:\n",
    "        statistics['approximated'].append(n_precisions['APPROXIMATE'])\n",
    "    except:\n",
    "        statistics['approximated'].append(0)\n",
    "\n",
    "    try:\n",
    "        statistics['no_value'].append(n_precisions['NO_VALUE'])\n",
    "    except:\n",
    "        statistics['no_value'].append(0)\n",
    "    return statistics\n",
    "\n",
    "\n",
    "def generate_statistics(election_data,\n",
    "                        area_filter='all',\n",
    "                        precision_filter='all',\n",
    "                        kruskal_filter='all'):\n",
    "    statistics = {\n",
    "        'state': [],\n",
    "        'electorate': [],\n",
    "        'mean_electorate' : [],\n",
    "        'std_electorate' : [],\n",
    "        'turnout': [],\n",
    "        'mean_turnout': [],\n",
    "        'std_turnout': [],\n",
    "        'polling_places':[],\n",
    "        'tse': [],\n",
    "        'rooftop': [],\n",
    "        'geometric_center': [],\n",
    "        'range_interpolated': [],\n",
    "        'approximated': [],\n",
    "        'no_value': []\n",
    "    }\n",
    "\n",
    "    for state, data in election_data:\n",
    "                \n",
    "        #filtering Quantile\n",
    "        if kruskal_filter == 'Same':\n",
    "            data = data[data['JAIR BOLSONARO_same_dist']==True]\n",
    "        if kruskal_filter == 'Different':\n",
    "            data = data[data['JAIR BOLSONARO_same_dist']==False]\n",
    "    \n",
    "        #filtering data by area\n",
    "        if area_filter == 'Capital':\n",
    "            data = data[data['capital'] == True]\n",
    "        elif area_filter == 'Rural':\n",
    "            data = data[data['rural'] == True]\n",
    "        elif area_filter == 'Interior':\n",
    "            data = data[data['capital']==False]\n",
    "            data = data[data['rural']==False]\n",
    "        elif area_filter == 'Not Capital':\n",
    "            data = data[data['capital']==False]\n",
    "\n",
    "        #filtering data by precision\n",
    "        if precision_filter == 'TSE':\n",
    "            data = data[data['precision'] == 'TSE']\n",
    "        elif precision_filter == 'Rooftop':\n",
    "            data = data[data['precision'] == 'ROOFTOP']\n",
    "        elif precision_filter == 'Others':\n",
    "            data = data[data['precision'] != 'TSE']\n",
    "            data = data[data['precision'] != 'ROOFTOP']\n",
    "\n",
    "        \n",
    "        #General statistics\n",
    "        statistics = generate_general_statistics(state, data, statistics)\n",
    "        \n",
    "        #Precision statistics\n",
    "        statistics = generate_precision_statistics(data, statistics)\n",
    "\n",
    "    return pd.DataFrame(statistics)"
   ]
  },
  {
   "cell_type": "code",
   "execution_count": 34,
   "metadata": {
    "hide_input": true
   },
   "outputs": [],
   "source": [
    "def generate_electorate_single_plot(election_statistics, field):\n",
    "    fig, ax = plt.subplots(1, 1, figsize=(10, 5))\n",
    "    fig.tight_layout()\n",
    "\n",
    "    plot_electorate = sns.barplot(ax=ax,\n",
    "                                  x='state',\n",
    "                                  y=field,\n",
    "                                  data=election_statistics,\n",
    "                                  color='#59a2cb')\n",
    "    if field == 'electorate':\n",
    "        title = \"Electorate Size\"\n",
    "    elif field == 'turnout':\n",
    "        title = \"Turnout\"\n",
    "    elif field == 'mean_electorate':\n",
    "        title = \"Mean Electorate By Polling Places\"\n",
    "    elif field == 'mean_turnout':\n",
    "        title = \"Mean Turnout By Polling Places\"\n",
    "    ax.title.set_text(title)\n",
    "    ax.set(xlabel=\"States\", ylabel=\"Number of voters\")\n",
    "\n",
    "    #vals = ax[1].get_yticks()\n",
    "    #ax[1].set_yticklabels(['{:.0}'.format(x) for x in vals])\n",
    "    plt.subplots_adjust(hspace=0.01)\n",
    "    \n",
    "    fig.show()\n",
    "    return None\n",
    "\n",
    "\n",
    "\n",
    "def generate_electorate_size_plot(election_statistics, field):\n",
    "\n",
    "    election_statistics['%' + field] = 100 * election_statistics[\n",
    "        field] / election_statistics[field].sum()\n",
    "    fig, ax = plt.subplots(2, 1, figsize=(10, 5))\n",
    "    fig.tight_layout()\n",
    "\n",
    "    plot_electorate = sns.barplot(ax=ax[0],\n",
    "                                  x='state',\n",
    "                                  y=field,\n",
    "                                  data=election_statistics,\n",
    "                                  color='#59a2cb')\n",
    "    if field == 'electorate':\n",
    "        title = \"Electorate Size\"\n",
    "    elif field == 'turnout':\n",
    "        title = \"Turnout\"\n",
    "    elif field == 'mean_electorate':\n",
    "        title = \"Mean Electorate By Polling Places\"\n",
    "    elif field == 'mean_turnout':\n",
    "        title = \"Mean Turnout By Polling Places\"\n",
    "    ax[0].title.set_text(title)\n",
    "    ax[0].set(xlabel=\"\", ylabel=\"Number of voters (1e6)\")\n",
    "    ax[0].set_xticks([])\n",
    "\n",
    "    plot_electorate = sns.barplot(ax=ax[1],\n",
    "                                  x='state',\n",
    "                                  y='%' + field,\n",
    "                                  data=election_statistics,\n",
    "                                  color='#f85050')\n",
    "    ax[1].set(xlabel=\"States\", ylabel=\"Percentual of voters (%)\")\n",
    "\n",
    "    #vals = ax[1].get_yticks()\n",
    "    #ax[1].set_yticklabels(['{:.0}'.format(x) for x in vals])\n",
    "    plt.subplots_adjust(hspace=0.01)\n",
    "    return (fig)\n",
    "\n",
    "def generate_polling_places_plot(\n",
    "    election_statistics,\n",
    "    field,\n",
    "):\n",
    "\n",
    "    election_statistics['%' + field] = 100 * election_statistics[\n",
    "        field] / election_statistics[field].sum()\n",
    "    fig, ax = plt.subplots(2, 1, figsize=(10, 5))\n",
    "    fig.tight_layout()\n",
    "\n",
    "    plot_electorate = sns.barplot(ax=ax[0],\n",
    "                                  x='state',\n",
    "                                  y=field,\n",
    "                                  data=election_statistics,\n",
    "                                  color='#59a2cb')\n",
    "    if field == 'polling_places':\n",
    "        title = \"Polling Places\"\n",
    "\n",
    "    ax[0].title.set_text(title)\n",
    "    ax[0].set(xlabel=\"\", ylabel=\"Number of polling places\")\n",
    "    ax[0].set_xticks([])\n",
    "\n",
    "    plot_electorate = sns.barplot(ax=ax[1],\n",
    "                                  x='state',\n",
    "                                  y='%' + field,\n",
    "                                  data=election_statistics,\n",
    "                                  color='#f85050')\n",
    "    ax[1].set(xlabel=\"States\", ylabel=\"Percentual of polling places (%)\")\n",
    "\n",
    "    #vals = ax[1].get_yticks()\n",
    "    #ax[1].set_yticklabels(['{:.0}'.format(x) for x in vals])\n",
    "    plt.subplots_adjust(hspace=0.01)\n",
    "    return (fig)\n",
    "\n",
    "def stacked_data(top_statistics,\n",
    "                 bottom_statistics,\n",
    "                 middle_statistics,\n",
    "                 field='electorate',\n",
    "                 legend=['Capital', 'Rural', 'Interior'],\n",
    "                 sum_middle=True):\n",
    "    \n",
    "    #Set general plot properties\n",
    "    sns.set_context({\"figure.figsize\": (30, 17)})\n",
    "\n",
    "    #Plot 1 - background - \"total\" (top) series\n",
    "    sns.barplot(x=top_statistics.state,\n",
    "                y=top_statistics[field],\n",
    "                color=\"#f85050\")\n",
    "\n",
    "    #Plot 2 - overlay - \"middle\" series\n",
    "    if sum_middle:\n",
    "        series_to_plot = bottom_statistics[field] + middle_statistics[field]\n",
    "        middle_plot = sns.barplot(x=middle_statistics.state,\n",
    "                                  y=series_to_plot,\n",
    "                                  color=\"#2b7c56\")\n",
    "    else:\n",
    "        middle_plot = sns.barplot(x=middle_statistics.state,\n",
    "                                  y=middle_statistics[field],\n",
    "                                  color=\"#2b7c56\")\n",
    "\n",
    "    #Plot 3 - overlay - \"bottom\" series\n",
    "    bottom_plot = sns.barplot(x=bottom_statistics.state,\n",
    "                              y=bottom_statistics[field],\n",
    "                              color=\"#59a2cb\")\n",
    "\n",
    "    topbar = plt.Rectangle((0, 0), 1, 1, fc=\"#f85050\", edgecolor='none')\n",
    "    bottombar = plt.Rectangle((0, 0), 1, 1, fc='#59a2cb', edgecolor='none')\n",
    "    middlebar = plt.Rectangle((0, 0), 1, 1, fc='#2b7c56', edgecolor='none')\n",
    "\n",
    "    l = plt.legend([bottombar, middlebar, topbar],\n",
    "                   legend,\n",
    "                   loc=1,\n",
    "                   ncol=3,\n",
    "                   prop={'size': 25})\n",
    "    l.draw_frame(False)\n",
    "\n",
    "    #Optional code - Make plot look nicer\n",
    "    #sns.despine(left=True)\n",
    "    bottom_plot.set_ylabel(\"\")\n",
    "    bottom_plot.set_xlabel(\"States\")\n",
    "\n",
    "    #Set fonts to consistent 16pt size\n",
    "    for item in ([bottom_plot.xaxis.label, bottom_plot.yaxis.label] +\n",
    "                 bottom_plot.get_xticklabels() +\n",
    "                 bottom_plot.get_yticklabels()):\n",
    "        item.set_fontsize(25)"
   ]
  },
  {
   "cell_type": "markdown",
   "metadata": {},
   "source": [
    "# Step 1 - Load the data"
   ]
  },
  {
   "cell_type": "markdown",
   "metadata": {},
   "source": [
    "<b>Select the folder where all electoral data are:</b>"
   ]
  },
  {
   "cell_type": "code",
   "execution_count": 43,
   "metadata": {
    "ExecuteTime": {
     "end_time": "2020-05-14T18:27:53.234231Z",
     "start_time": "2020-05-14T18:27:53.097318Z"
    },
    "scrolled": true
   },
   "outputs": [
    {
     "data": {
      "application/vnd.jupyter.widget-view+json": {
       "model_id": "a4b1f5ff34a14fb5a5920b49082507a8",
       "version_major": 2,
       "version_minor": 0
      },
      "text/plain": [
       "FileChooser(path='C:\\Users\\Tiago\\Documents\\GitHub\\Election_Forensics\\notebooks\\report', filename='', show_hidd…"
      ]
     },
     "metadata": {},
     "output_type": "display_data"
    },
    {
     "name": "stderr",
     "output_type": "stream",
     "text": [
      "100%|██████████████████████████████████████████| 27/27 [00:04<00:00,  5.65it/s]\n"
     ]
    }
   ],
   "source": [
    "# Create and display a FileChooser widget\n",
    "ROOT_DIR = path.abspath(curdir)\n",
    "fc = FileChooser(ROOT_DIR)\n",
    "fc.use_dir_icons = True\n",
    "#fc.title = '<b>Choose a folder</b>'\n",
    "\n",
    "election_data = []\n",
    "def load_data(chooser):\n",
    "    global election_data\n",
    "    \n",
    "    selected_path = chooser.selected_path\n",
    "    try:\n",
    "        filenames = [\n",
    "            filename for filename in listdir(selected_path)\n",
    "            if isfile(join(selected_path, filename))\n",
    "        ]\n",
    "        #filenames.remove('DF.csv')\n",
    "        for file in tqdm(filenames):\n",
    "            data = pd.read_csv(selected_path + '\\\\' + file)\n",
    "            state = file.split('.')[0]\n",
    "            election_data = election_data + [(state, data)]\n",
    "    except:\n",
    "        print(\"An erro occur, please check the folder selected.\")\n",
    "\n",
    "\n",
    "# Register callback function\n",
    "fc.register_callback(load_data)\n",
    "display(fc)"
   ]
  },
  {
   "cell_type": "markdown",
   "metadata": {},
   "source": [
    "# Step 2 - Filter the data"
   ]
  },
  {
   "cell_type": "markdown",
   "metadata": {},
   "source": [
    "<b>Select the type of area to filter the data:</b>"
   ]
  },
  {
   "cell_type": "code",
   "execution_count": 44,
   "metadata": {
    "ExecuteTime": {
     "end_time": "2020-05-14T17:49:36.273430Z",
     "start_time": "2020-05-14T17:49:36.068934Z"
    }
   },
   "outputs": [
    {
     "data": {
      "application/vnd.jupyter.widget-view+json": {
       "model_id": "6b9d53a1202048cea3d3819d0ff4d382",
       "version_major": 2,
       "version_minor": 0
      },
      "text/plain": [
       "Dropdown(options=('ALL', 'Same', 'Different'), value='ALL')"
      ]
     },
     "metadata": {},
     "output_type": "display_data"
    }
   ],
   "source": [
    "dropdown_area = widgets.Dropdown(options=[\n",
    "    'ALL', 'Same', 'Different'\n",
    "])\n",
    "output_table = widgets.Output()\n",
    "output_electorate_plot = widgets.Output()\n",
    "output_turnout_plot = widgets.Output()\n",
    "\n",
    "\n",
    "def dropdown_area_eventhandler(change):\n",
    "    output_table.clear_output()\n",
    "    output_electorate_plot.clear_output()\n",
    "    output_turnout_plot.clear_output()\n",
    "\n",
    "    election_statistics = generate_statistics(election_data,\n",
    "                                              kruskal_filter=change.new,\n",
    "                                              area_filter='No Capital')\n",
    "    with output_table:\n",
    "        display(election_statistics)\n",
    "    with output_electorate_plot:\n",
    "        plot = generate_polling_places_plot(election_statistics,\n",
    "                                             field='polling_places')\n",
    "        plt.show()\n",
    "    with output_turnout_plot:\n",
    "        plot = generate_electorate_size_plot(election_statistics,\n",
    "                                             field='turnout')\n",
    "        plt.show()\n",
    "\n",
    "\n",
    "dropdown_area.observe(dropdown_area_eventhandler, names='value')\n",
    "\n",
    "display(dropdown_area)\n",
    "#display(output_table)"
   ]
  },
  {
   "cell_type": "markdown",
   "metadata": {},
   "source": [
    "# <center> Data Visualization </center> "
   ]
  },
  {
   "cell_type": "markdown",
   "metadata": {},
   "source": [
    "## Polling places plot\n",
    "This plot represents the size of the electorate per state. It is possible to change the plot by selecting specific areas. The percentages presented in this plot are calculated considering the sum of all states number of voters for the type of precision selected (Others, TSE, or Rooftop). "
   ]
  },
  {
   "cell_type": "code",
   "execution_count": 45,
   "metadata": {
    "ExecuteTime": {
     "end_time": "2020-05-14T17:49:36.392783Z",
     "start_time": "2020-05-14T17:49:36.275429Z"
    }
   },
   "outputs": [
    {
     "data": {
      "application/vnd.jupyter.widget-view+json": {
       "model_id": "d146bfd51d5745b5a2cf9da8f10edb35",
       "version_major": 2,
       "version_minor": 0
      },
      "text/plain": [
       "Output(outputs=({'output_type': 'display_data', 'data': {'text/plain': '<Figure size 720x360 with 2 Axes>', 'i…"
      ]
     },
     "metadata": {},
     "output_type": "display_data"
    }
   ],
   "source": [
    "display(output_electorate_plot)"
   ]
  },
  {
   "cell_type": "markdown",
   "metadata": {
    "ExecuteTime": {
     "end_time": "2020-05-14T17:49:36.514240Z",
     "start_time": "2020-05-14T17:49:36.394763Z"
    }
   },
   "source": [
    "## Polling places  stacked plot \n",
    "This plot shows the composition of the electorate of bad precision places by geocoded precision category.\n",
    "PS: Run this cell after loading the data."
   ]
  },
  {
   "cell_type": "code",
   "execution_count": 49,
   "metadata": {
    "scrolled": false
   },
   "outputs": [
    {
     "data": {
      "image/png": "[encoded data removed]",
      "text/plain": [
       "<Figure size 2160x1224 with 1 Axes>"
      ]
     },
     "metadata": {
      "needs_background": "light"
     },
     "output_type": "display_data"
    }
   ],
   "source": [
    "try:\n",
    "    all_statistics = generate_statistics(election_data,\n",
    "                                         precision_filter='Others',\n",
    "                                         area_filter='No Capital',\n",
    "                                         )\n",
    "    same_dist = generate_statistics(\n",
    "        election_data,\n",
    "        kruskal_filter='Same',\n",
    "        precision_filter='Others',\n",
    "        area_filter='No Capital')\n",
    "    \n",
    "    \n",
    "    diff_dist = generate_statistics(\n",
    "        election_data,\n",
    "        kruskal_filter='Different',\n",
    "        precision_filter='Others',\n",
    "        area_filter='No Capital')\n",
    "    \n",
    "    stacked_data(all_statistics,\n",
    "                 same_dist,\n",
    "                 diff_dist,\n",
    "                 field='polling_places',\n",
    "                 sum_middle = True,\n",
    "                 legend=['Same', 'Diff', 'All'])\n",
    "except:\n",
    "    print(\"An error occur, please check the selected folder.\")"
   ]
  },
  {
   "cell_type": "code",
   "execution_count": 50,
   "metadata": {},
   "outputs": [
    {
     "name": "stdout",
     "output_type": "stream",
     "text": [
      "Electorate size - Total: 38612, Same Dist: 7280, Diff Dist: 31332\n",
      "Electorate size (%) - Same Dist: 18.85424220449601, Diff Dist: 81.14575779550398\n"
     ]
    }
   ],
   "source": [
    "total_size = all_statistics.polling_places.sum()\n",
    "same_dist_size = same_dist.polling_places.sum()\n",
    "diff_dist_size = diff_dist.polling_places.sum()\n",
    "print(\n",
    "    \"Electorate size - Total: {}, Same Dist: {}, Diff Dist: {}\".format(\n",
    "        total_size, same_dist_size, diff_dist_size))\n",
    "\n",
    "same_dist_perc = 100 * same_dist_size / total_size\n",
    "diff_dist_perc = 100 * diff_dist_size / total_size\n",
    "print(\"Electorate size (%) - Same Dist: {}, Diff Dist: {}\".format(same_dist_perc, diff_dist_perc))\n",
    "\n"
   ]
  },
  {
   "cell_type": "markdown",
   "metadata": {},
   "source": [
    "## Turnout plot\n",
    "This plot represents the turnout of the electorate per state. It is possible to change the plot by selecting specific areas in the Step 2. The percentages presented in this plot are calculated considering the sum of all states number of voters for the type of precisions selected (Others, TSE, or Rooftop). "
   ]
  },
  {
   "cell_type": "code",
   "execution_count": 51,
   "metadata": {
    "scrolled": false
   },
   "outputs": [
    {
     "data": {
      "application/vnd.jupyter.widget-view+json": {
       "model_id": "69a9921318ec48d1887c9f07bc191e0f",
       "version_major": 2,
       "version_minor": 0
      },
      "text/plain": [
       "Output(outputs=({'output_type': 'display_data', 'data': {'text/plain': '<Figure size 720x360 with 2 Axes>', 'i…"
      ]
     },
     "metadata": {},
     "output_type": "display_data"
    }
   ],
   "source": [
    "display(output_turnout_plot)"
   ]
  },
  {
   "cell_type": "markdown",
   "metadata": {},
   "source": [
    "## Turnout stacked plot\n",
    "This plot shows the composition of the turnout electorate by geocoded precision category.\n",
    "PS: Run this cell after loading the data."
   ]
  },
  {
   "cell_type": "code",
   "execution_count": 52,
   "metadata": {},
   "outputs": [
    {
     "data": {
      "image/png": "[encoded data removed]",
      "text/plain": [
       "<Figure size 2160x1224 with 1 Axes>"
      ]
     },
     "metadata": {
      "needs_background": "light"
     },
     "output_type": "display_data"
    }
   ],
   "source": [
    "try:\n",
    "    stacked_data(all_statistics,\n",
    "                 same_dist,\n",
    "                 diff_dist,\n",
    "                 legend=['Same Dist', 'Diff Dist', ''],\n",
    "                 field='turnout')\n",
    "except:\n",
    "    print(\"An error occur, please check the selected folder.\")"
   ]
  },
  {
   "cell_type": "code",
   "execution_count": 53,
   "metadata": {},
   "outputs": [
    {
     "name": "stdout",
     "output_type": "stream",
     "text": [
      "Electorate size - Total: 25445897, Same Dist: 3321485, Diff Dist: 22124412\n",
      "Electorate size (%) - Same Dist: 13.053126010845677, Diff Dist: 86.94687398915433\n"
     ]
    }
   ],
   "source": [
    "total_size = all_statistics.turnout.sum()\n",
    "same_dist_size = same_dist.turnout.sum()\n",
    "diff_dist_size = diff_dist.turnout.sum()\n",
    "print(\n",
    "    \"Electorate size - Total: {}, Same Dist: {}, Diff Dist: {}\".format(\n",
    "        total_size, same_dist_size, diff_dist_size))\n",
    "\n",
    "same_dist_perc = 100 * same_dist_size / total_size\n",
    "diff_dist_perc = 100 * diff_dist_size / total_size\n",
    "print(\"Electorate size (%) - Same Dist: {}, Diff Dist: {}\".format(same_dist_perc, diff_dist_perc))"
   ]
  },
  {
   "cell_type": "markdown",
   "metadata": {},
   "source": [
    "## Precision of same distribution cities stacked plot\n",
    "This plot shows the composition of the turnout electorate by geocoded precision category.\n",
    "PS: Run this cell after loading the data."
   ]
  },
  {
   "cell_type": "code",
   "execution_count": 64,
   "metadata": {},
   "outputs": [
    {
     "data": {
      "image/png": "[encoded data removed]",
      "text/plain": [
       "<Figure size 2160x1224 with 1 Axes>"
      ]
     },
     "metadata": {
      "needs_background": "light"
     },
     "output_type": "display_data"
    }
   ],
   "source": [
    "try:\n",
    "    all_statistics = generate_statistics(election_data,\n",
    "                                         kruskal_filter='Same',\n",
    "                                         precision_filter='All',\n",
    "                                         area_filter='No Capital',\n",
    "                                         )\n",
    "    tse_statistics = generate_statistics(\n",
    "        election_data,\n",
    "        kruskal_filter='Same',\n",
    "        precision_filter='TSE',\n",
    "        area_filter='No Capital')\n",
    "    \n",
    "    \n",
    "    rooftop_statistics = generate_statistics(\n",
    "        election_data,\n",
    "        kruskal_filter='Same',\n",
    "        precision_filter='Rooftop',\n",
    "        area_filter='No Capital')\n",
    "    \n",
    "    stacked_data(all_statistics,\n",
    "                 tse_statistics,\n",
    "                 rooftop_statistics,\n",
    "                 field='polling_places',\n",
    "                 sum_middle = True,\n",
    "                 legend=['TSE', 'Rooftop', 'Others'])\n",
    "except:\n",
    "    print(\"An error occur, please check the selected folder.\")"
   ]
  },
  {
   "cell_type": "code",
   "execution_count": 63,
   "metadata": {},
   "outputs": [
    {
     "name": "stdout",
     "output_type": "stream",
     "text": [
      "Polling places - Total: 14256, TSE: 4167, Rooftop: 2809, Others: 7280\n",
      "Polling places (%) - Others: 51.0662177328844, TSE: 29.22979797979798, Rooftop: 19.70398428731762\n"
     ]
    }
   ],
   "source": [
    "total_size = all_statistics.polling_places.sum()\n",
    "tse_size = tse_statistics.polling_places.sum()\n",
    "rooftop_size = rooftop_statistics.polling_places.sum()\n",
    "other_size = total_size - tse_size - rooftop_size\n",
    "print(\n",
    "    \"Polling places - Total: {}, TSE: {}, Rooftop: {}, Others: {}\".format(\n",
    "        total_size, tse_size, rooftop_size, other_size))\n",
    "\n",
    "other_perc = 100 * other_size / total_size\n",
    "tse_perc = 100 * tse_size / total_size\n",
    "rooftop_perc = 100 * rooftop_size / total_size\n",
    "print(\"Polling places (%) - Others: {}, TSE: {}, Rooftop: {}\".format(\n",
    "    other_perc, tse_perc, rooftop_perc))\n"
   ]
  },
  {
   "cell_type": "markdown",
   "metadata": {},
   "source": [
    "# <center> Analysis </center>\n"
   ]
  }
 ],
 "metadata": {
  "hide_input": false,
  "kernelspec": {
   "display_name": "Python 3",
   "language": "python",
   "name": "python3"
  },
  "language_info": {
   "codemirror_mode": {
    "name": "ipython",
    "version": 3
   },
   "file_extension": ".py",
   "mimetype": "text/x-python",
   "name": "python",
   "nbconvert_exporter": "python",
   "pygments_lexer": "ipython3",
   "version": "3.6.5"
  },
  "notify_time": "5",
  "varInspector": {
   "cols": {
    "lenName": 16,
    "lenType": 16,
    "lenVar": 40
   },
   "kernels_config": {
    "python": {
     "delete_cmd_postfix": "",
     "delete_cmd_prefix": "del ",
     "library": "var_list.py",
     "varRefreshCmd": "print(var_dic_list())"
    },
    "r": {
     "delete_cmd_postfix": ") ",
     "delete_cmd_prefix": "rm(",
     "library": "var_list.r",
     "varRefreshCmd": "cat(var_dic_list()) "
    }
   },
   "types_to_exclude": [
    "module",
    "function",
    "builtin_function_or_method",
    "instance",
    "_Feature"
   ],
   "window_display": false
  }
 },
 "nbformat": 4,
 "nbformat_minor": 2
}
