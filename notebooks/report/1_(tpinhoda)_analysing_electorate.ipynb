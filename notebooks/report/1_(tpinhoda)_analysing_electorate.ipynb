{
 "cells": [
  {
   "cell_type": "code",
   "execution_count": 1,
   "metadata": {
    "ExecuteTime": {
     "end_time": "2020-05-14T17:49:35.387675Z",
     "start_time": "2020-05-14T17:49:34.270235Z"
    },
    "hide_input": false
   },
   "outputs": [],
   "source": [
    "import pandas as pd\n",
    "import numpy as np\n",
    "import seaborn as sns\n",
    "import ipywidgets as widgets\n",
    "\n",
    "from matplotlib import pyplot as plt\n",
    "from os import listdir, path, curdir\n",
    "from os.path import isfile, join\n",
    "from pathlib import Path\n",
    "from tqdm import tqdm\n",
    "from ipyfilechooser import FileChooser\n",
    "\n",
    "import warnings\n",
    "warnings.filterwarnings('ignore')"
   ]
  },
  {
   "cell_type": "code",
   "execution_count": 2,
   "metadata": {
    "ExecuteTime": {
     "end_time": "2020-05-14T18:49:28.509057Z",
     "start_time": "2020-05-14T18:49:28.498082Z"
    },
    "hide_input": false
   },
   "outputs": [],
   "source": [
    "def generate_general_statistics(state, data, statistics):\n",
    "    statistics['state'].append(state)\n",
    "    statistics['electorate'].append(data['QT_APTOS'].sum())\n",
    "    statistics['turnout'].append(data['QT_COMPARECIMENTO'].sum())\n",
    "    statistics['polling_places'].append(len(data.groupby('id')))\n",
    "    return statistics\n",
    "\n",
    "def generate_statistics(election_data, data_filter='all'):\n",
    "    statistics = {\n",
    "        'state': [],\n",
    "        'electorate': [],\n",
    "        'turnout':[],\n",
    "        'polling_places': [],\n",
    "        '\n",
    "    }\n",
    "\n",
    "    for state, data in election_data:\n",
    "        #filtering data if needed\n",
    "        if data_filter == 'Capital':\n",
    "            data = data[data['capital'] == True]\n",
    "        elif data_filter == 'Rural':\n",
    "            data = data[data['rural'] == True]\n",
    "\n",
    "        #General statistics\n",
    "        statistics = generate_general_statistics(state, data, statistics)\n",
    "        #Precision statistics\n",
    "        #statistics = generate_precision_statistics(data, statistics)\n",
    "\n",
    "    return pd.DataFrame(statistics)"
   ]
  },
  {
   "cell_type": "code",
   "execution_count": 3,
   "metadata": {
    "hide_input": true
   },
   "outputs": [],
   "source": [
    "def generate_electorate_size_plot(election_statistics, field):\n",
    "\n",
    "    election_statistics['%'+field] = 100* election_statistics[\n",
    "        field] / election_statistics[field].sum()\n",
    "    fig, ax = plt.subplots(2, 1, figsize=(10, 5))\n",
    "    fig.tight_layout()\n",
    "    \n",
    "    plot_electorate = sns.barplot(ax=ax[0],\n",
    "                                  x='state',\n",
    "                                  y= field,\n",
    "                                  data=election_statistics,\n",
    "                                  color='#59a2cb'\n",
    "                                  )\n",
    "    if field == 'electorate': \n",
    "        title = \"Electorate Size\"\n",
    "    elif field == 'turnout':\n",
    "        title = \"Turnout\"\n",
    "    ax[0].title.set_text(title)\n",
    "    ax[0].set(xlabel=\"\", ylabel = \"Number of voters (1e7)\")\n",
    "    ax[0].set_xticks([])\n",
    "    \n",
    "    plot_electorate = sns.barplot(ax=ax[1],\n",
    "                                  x='state',\n",
    "                                  y='%'+field,\n",
    "                                  data=election_statistics,\n",
    "                                  color='#f85050'\n",
    "                                 )\n",
    "    ax[1].set(xlabel=\"States\", ylabel = \"Percentual of voters (%)\")\n",
    "    \n",
    "    \n",
    "    #vals = ax[1].get_yticks()\n",
    "    #ax[1].set_yticklabels(['{:.0}'.format(x) for x in vals])\n",
    "    plt.subplots_adjust(hspace=0.01)\n",
    "    return(fig)\n",
    "\n",
    "def stacked_data(election_statistics, capital_election_statistics, rural_election_statistics, field='electorate'):\n",
    "    #Set general plot properties\n",
    "    #sns.set_style(\"white\")\n",
    "    sns.set_context({\"figure.figsize\": (30, 17)})\n",
    "\n",
    "    #Plot 1 - background - \"total\" (top) series\n",
    "    sns.barplot(x=election_statistics.state,\n",
    "                y=election_statistics[field],\n",
    "                color=\"#f85050\")\n",
    "\n",
    "    #Plot 2 - overlay - \"bottom\" series\n",
    "    series_to_plot = capital_election_statistics[field] + rural_election_statistics[field]\n",
    "    middle_plot = sns.barplot(x=rural_election_statistics.state,\n",
    "                              y=series_to_plot,\n",
    "                              color=\"#2b7c56\")\n",
    "\n",
    "    #Plot 3 - overlay - \"bottom\" series\n",
    "    bottom_plot = sns.barplot(x=capital_election_statistics.state,\n",
    "                              y=capital_election_statistics[field],\n",
    "                              color=\"#59a2cb\")\n",
    "\n",
    "    topbar = plt.Rectangle((0, 0), 1, 1, fc=\"#f85050\", edgecolor='none')\n",
    "    bottombar = plt.Rectangle((0, 0), 1, 1, fc='#59a2cb', edgecolor='none')\n",
    "    middlebar = plt.Rectangle((0, 0), 1, 1, fc='#2b7c56', edgecolor='none')\n",
    "\n",
    "    l = plt.legend([bottombar, middlebar, topbar],\n",
    "                   ['Capital', 'Rural', 'Interior'],\n",
    "                   loc=1,\n",
    "                   ncol=3,\n",
    "                   prop={'size': 25})\n",
    "    l.draw_frame(False)\n",
    "\n",
    "    #Optional code - Make plot look nicer\n",
    "    #sns.despine(left=True)\n",
    "    bottom_plot.set_ylabel(\"Number of voters (1e7)\")\n",
    "    bottom_plot.set_xlabel(\"States\")\n",
    "\n",
    "    #Set fonts to consistent 16pt size\n",
    "    for item in ([bottom_plot.xaxis.label, bottom_plot.yaxis.label] +\n",
    "                 bottom_plot.get_xticklabels() + bottom_plot.get_yticklabels()):\n",
    "        item.set_fontsize(25)"
   ]
  },
  {
   "cell_type": "markdown",
   "metadata": {},
   "source": [
    "# Step 1 - Load the data"
   ]
  },
  {
   "cell_type": "markdown",
   "metadata": {},
   "source": [
    "<b>Select the folder where all electoral data are:</b>"
   ]
  },
  {
   "cell_type": "code",
   "execution_count": 4,
   "metadata": {
    "ExecuteTime": {
     "end_time": "2020-05-14T18:27:53.234231Z",
     "start_time": "2020-05-14T18:27:53.097318Z"
    },
    "scrolled": true
   },
   "outputs": [
    {
     "data": {
      "application/vnd.jupyter.widget-view+json": {
       "model_id": "568bf19f03a7463d971dd6156d77b907",
       "version_major": 2,
       "version_minor": 0
      },
      "text/plain": [
       "FileChooser(path='C:\\Users\\Tiago\\Documents\\GitHub\\Election_Forensics\\notebooks\\report', filename='', show_hidd…"
      ]
     },
     "metadata": {},
     "output_type": "display_data"
    },
    {
     "name": "stderr",
     "output_type": "stream",
     "text": [
      "100%|██████████████████████████████████████████| 27/27 [00:04<00:00,  6.24it/s]\n"
     ]
    }
   ],
   "source": [
    "# Create and display a FileChooser widget\n",
    "ROOT_DIR = path.abspath(curdir)\n",
    "fc = FileChooser(ROOT_DIR)\n",
    "fc.use_dir_icons = True\n",
    "#fc.title = '<b>Choose a folder</b>'\n",
    "\n",
    "election_data = []\n",
    "def load_data(chooser):\n",
    "    global election_data\n",
    "    \n",
    "    selected_path = chooser.selected_path\n",
    "    try:\n",
    "        filenames = [\n",
    "            filename for filename in listdir(selected_path)\n",
    "            if isfile(join(selected_path, filename))\n",
    "        ]\n",
    "\n",
    "        for file in tqdm(filenames):\n",
    "            data = pd.read_csv(selected_path + '\\\\' + file)\n",
    "            state = file.split('.')[0]\n",
    "            election_data = election_data + [(state, data)]\n",
    "    except:\n",
    "        print(\"An erro occur, please check the folder selected.\")\n",
    "\n",
    "\n",
    "# Register callback function\n",
    "fc.register_callback(load_data)\n",
    "display(fc)"
   ]
  },
  {
   "cell_type": "markdown",
   "metadata": {},
   "source": [
    "# Step 2 - Filter the data"
   ]
  },
  {
   "cell_type": "markdown",
   "metadata": {},
   "source": [
    "<b>Select the type of area to filter the data:</b>"
   ]
  },
  {
   "cell_type": "code",
   "execution_count": 5,
   "metadata": {
    "ExecuteTime": {
     "end_time": "2020-05-14T17:49:36.273430Z",
     "start_time": "2020-05-14T17:49:36.068934Z"
    }
   },
   "outputs": [
    {
     "data": {
      "application/vnd.jupyter.widget-view+json": {
       "model_id": "e646b97c2e2d47da84c0230e9d43d447",
       "version_major": 2,
       "version_minor": 0
      },
      "text/plain": [
       "Dropdown(options=('All', 'Capital', 'Rural'), value='All')"
      ]
     },
     "metadata": {},
     "output_type": "display_data"
    }
   ],
   "source": [
    "dropdown_area = widgets.Dropdown(options=['All', 'Capital', 'Rural'])\n",
    "output_table = widgets.Output()\n",
    "output_electorate_plot = widgets.Output()\n",
    "output_turnout_plot = widgets.Output()\n",
    "\n",
    "\n",
    "def dropdown_area_eventhandler(change):\n",
    "    output_table.clear_output()\n",
    "    output_electorate_plot.clear_output()\n",
    "    output_turnout_plot.clear_output() \n",
    "\n",
    "    election_statistics = generate_statistics(election_data,\n",
    "                                              data_filter=change.new)\n",
    "    with output_table:\n",
    "        display(election_statistics)\n",
    "    with output_electorate_plot:\n",
    "        plot = generate_electorate_size_plot(election_statistics,\n",
    "                                             field='electorate')\n",
    "        plt.show()\n",
    "    with output_turnout_plot:\n",
    "        plot = generate_electorate_size_plot(election_statistics,\n",
    "                                             field='turnout')\n",
    "        plt.show()\n",
    "\n",
    "\n",
    "dropdown_area.observe(dropdown_area_eventhandler, names='value')\n",
    "\n",
    "display(dropdown_area)\n",
    "#display(output_table)"
   ]
  },
  {
   "cell_type": "markdown",
   "metadata": {},
   "source": [
    "# <center> Data Visualization </center> "
   ]
  },
  {
   "cell_type": "markdown",
   "metadata": {},
   "source": [
    "## Electorate size plot\n",
    "This plot represents the size of the electorate per state. It is possible to change the plot by selecting specific areas. The percentages presented in this plot are calculated considering the sum of all states number of voters for the type of area selected (All, Capital, or Rural). "
   ]
  },
  {
   "cell_type": "code",
   "execution_count": 6,
   "metadata": {
    "ExecuteTime": {
     "end_time": "2020-05-14T17:49:36.392783Z",
     "start_time": "2020-05-14T17:49:36.275429Z"
    }
   },
   "outputs": [
    {
     "data": {
      "application/vnd.jupyter.widget-view+json": {
       "model_id": "7a5df9368071477dbdb7eec8ee6b0ca9",
       "version_major": 2,
       "version_minor": 0
      },
      "text/plain": [
       "Output()"
      ]
     },
     "metadata": {},
     "output_type": "display_data"
    }
   ],
   "source": [
    "display(output_electorate_plot)"
   ]
  },
  {
   "cell_type": "markdown",
   "metadata": {
    "ExecuteTime": {
     "end_time": "2020-05-14T17:49:36.514240Z",
     "start_time": "2020-05-14T17:49:36.394763Z"
    }
   },
   "source": [
    "## Electorate size stacked plot\n",
    "This plot shows the composition of the electorate by areas (Capital, Rural, Interior)\n",
    "PS: Run this cell after loading the data."
   ]
  },
  {
   "cell_type": "code",
   "execution_count": 14,
   "metadata": {
    "scrolled": false
   },
   "outputs": [
    {
     "data": {
      "image/png": "[encoded data removed]",
      "text/plain": [
       "<Figure size 2160x1224 with 1 Axes>"
      ]
     },
     "metadata": {
      "needs_background": "light"
     },
     "output_type": "display_data"
    }
   ],
   "source": [
    "try:\n",
    "    interior_statistics = generate_statistics(election_data, data_filter= 'All')\n",
    "    capital_statistics = generate_statistics(election_data, data_filter= 'Capital')\n",
    "    rural_statistics = generate_statistics(election_data, data_filter= 'Rural')\n",
    "\n",
    "    stacked_data(interior_statistics, capital_statistics, rural_statistics)\n",
    "except:\n",
    "    print(\"An error occur, please check the selected folder.\")"
   ]
  },
  {
   "cell_type": "markdown",
   "metadata": {},
   "source": [
    "## Turnout plot\n",
    "This plot represents the turnout of the electorate per state. It is possible to change the plot by selecting specific areas in the Step 2. The percentages presented in this plot are calculated considering the sum of all states number of voters for the type of area selected (All, Capital, or Rural). "
   ]
  },
  {
   "cell_type": "code",
   "execution_count": 8,
   "metadata": {
    "scrolled": false
   },
   "outputs": [
    {
     "data": {
      "application/vnd.jupyter.widget-view+json": {
       "model_id": "5c446c55f5cf4091b67dd42d204dcbbf",
       "version_major": 2,
       "version_minor": 0
      },
      "text/plain": [
       "Output()"
      ]
     },
     "metadata": {},
     "output_type": "display_data"
    }
   ],
   "source": [
    "display(output_turnout_plot)"
   ]
  },
  {
   "cell_type": "markdown",
   "metadata": {},
   "source": [
    "## Turnout stacked plot\n",
    "This plot shows the composition of the turnout electorate by areas (Capital, Rural, Interior)\n",
    "PS: Run this cell after loading the data."
   ]
  },
  {
   "cell_type": "code",
   "execution_count": 15,
   "metadata": {},
   "outputs": [
    {
     "data": {
      "image/png": "[encoded data removed]",
      "text/plain": [
       "<Figure size 2160x1224 with 1 Axes>"
      ]
     },
     "metadata": {
      "needs_background": "light"
     },
     "output_type": "display_data"
    }
   ],
   "source": [
    "try:\n",
    "    stacked_data(interior_statistics, capital_statistics, rural_statistics, field='turnout')\n",
    "except:\n",
    "    print(\"An error occur, please check the selected folder.\")"
   ]
  },
  {
   "cell_type": "markdown",
   "metadata": {},
   "source": [
    "# <center> Analysis </center>\n"
   ]
  },
  {
   "cell_type": "markdown",
   "metadata": {},
   "source": [
    "Although the capitals present a huge percentage of the electorate, most of the electorate seems to be in the interior cities, specially in the state of São Paulo that presents around 20% of the total electorate size. Moreover, the rural areas seems to have a small percentage regarding the total, and are more present in the northeastern and northern regions. Finally, the proportion of electorate size and turnout does not changed for this data."
   ]
  },
  {
   "cell_type": "code",
   "execution_count": 16,
   "metadata": {},
   "outputs": [
    {
     "name": "stdout",
     "output_type": "stream",
     "text": [
      "Electorate size - Total:146830967, Interior:101407045, Capitals:34794638, Rural:10629284\n"
     ]
    }
   ],
   "source": [
    "total_size = interior_statistics.electorate.sum()\n",
    "capital_size = capital_statistics.electorate.sum()\n",
    "rural_size = rural_statistics.electorate.sum()\n",
    "interior_size = total_size - capital_size - rural_size\n",
    "print(\"Electorate size - Total:{}, Interior:{}, Capitals:{}, Rural:{}\".format(\n",
    "    total_size, interior_size, capital_size, rural_size))"
   ]
  },
  {
   "cell_type": "code",
   "execution_count": 17,
   "metadata": {},
   "outputs": [
    {
     "name": "stdout",
     "output_type": "stream",
     "text": [
      "Electorate size (%) - Interior:69.0637997364684, Capitals:23.697070659488336, Rural:7.239129604043267\n"
     ]
    }
   ],
   "source": [
    "interior_perc = 100*interior_size/total_size\n",
    "capital_perc = 100*capital_size/total_size\n",
    "rural_perc = 100*rural_size/total_size\n",
    "print(\"Electorate size (%) - Interior:{}, Capitals:{}, Rural:{}\".format(interior_perc, capital_perc, rural_perc))"
   ]
  },
  {
   "cell_type": "code",
   "execution_count": 18,
   "metadata": {},
   "outputs": [
    {
     "name": "stdout",
     "output_type": "stream",
     "text": [
      "Turnout - Total:115754230, Interior:79534871, Capitals:28064268, Rural:8155091\n"
     ]
    }
   ],
   "source": [
    "total_size = interior_statistics.turnout.sum()\n",
    "capital_size = capital_statistics.turnout.sum()\n",
    "rural_size = rural_statistics.turnout.sum()\n",
    "interior_size = total_size - capital_size - rural_size\n",
    "print(\"Turnout - Total:{}, Interior:{}, Capitals:{}, Rural:{}\".format(\n",
    "    total_size, interior_size, capital_size, rural_size))"
   ]
  },
  {
   "cell_type": "code",
   "execution_count": 19,
   "metadata": {},
   "outputs": [
    {
     "name": "stdout",
     "output_type": "stream",
     "text": [
      "Turnout (%) - Interior:68.71012057183569, Capitals:24.244701899878734, Rural:7.045177528285575\n"
     ]
    }
   ],
   "source": [
    "interior_perc = 100*interior_size/total_size\n",
    "capital_perc = 100*capital_size/total_size\n",
    "rural_perc = 100*rural_size/total_size\n",
    "print(\"Turnout (%) - Interior:{}, Capitals:{}, Rural:{}\".format(interior_perc, capital_perc, rural_perc))"
   ]
  }
 ],
 "metadata": {
  "hide_input": false,
  "kernelspec": {
   "display_name": "Python 3",
   "language": "python",
   "name": "python3"
  },
  "language_info": {
   "codemirror_mode": {
    "name": "ipython",
    "version": 3
   },
   "file_extension": ".py",
   "mimetype": "text/x-python",
   "name": "python",
   "nbconvert_exporter": "python",
   "pygments_lexer": "ipython3",
   "version": "3.6.5"
  },
  "notify_time": "5",
  "varInspector": {
   "cols": {
    "lenName": 16,
    "lenType": 16,
    "lenVar": 40
   },
   "kernels_config": {
    "python": {
     "delete_cmd_postfix": "",
     "delete_cmd_prefix": "del ",
     "library": "var_list.py",
     "varRefreshCmd": "print(var_dic_list())"
    },
    "r": {
     "delete_cmd_postfix": ") ",
     "delete_cmd_prefix": "rm(",
     "library": "var_list.r",
     "varRefreshCmd": "cat(var_dic_list()) "
    }
   },
   "types_to_exclude": [
    "module",
    "function",
    "builtin_function_or_method",
    "instance",
    "_Feature"
   ],
   "window_display": false
  }
 },
 "nbformat": 4,
 "nbformat_minor": 2
}
